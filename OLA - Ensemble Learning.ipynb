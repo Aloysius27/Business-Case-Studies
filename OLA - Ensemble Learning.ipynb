{
 "cells": [
  {
   "cell_type": "code",
   "execution_count": 1,
   "id": "899cc60d",
   "metadata": {},
   "outputs": [],
   "source": [
    "import pandas as pd\n",
    "import numpy as np\n",
    "import matplotlib.pyplot as plt\n",
    "import seaborn as sns\n",
    "from sklearn.linear_model import LogisticRegression\n",
    "from sklearn.impute import KNNImputer\n",
    "from sklearn.metrics import confusion_matrix\n",
    "from sklearn.metrics import classification_report\n",
    "from sklearn.metrics import roc_curve\n",
    "from sklearn.metrics import precision_recall_curve\n",
    "from sklearn.model_selection import train_test_split,KFold,cross_val_score\n",
    "from sklearn.preprocessing import MinMaxScaler\n",
    "from datetime import datetime\n",
    "from statsmodels.stats.outliers_influence import variance_inflation_factor"
   ]
  },
  {
   "cell_type": "code",
   "execution_count": 2,
   "id": "eb853c41",
   "metadata": {},
   "outputs": [],
   "source": [
    "ola = pd.read_csv('ola.csv')"
   ]
  },
  {
   "cell_type": "code",
   "execution_count": 3,
   "id": "e5ee6dc2",
   "metadata": {},
   "outputs": [
    {
     "data": {
      "text/html": [
       "<div>\n",
       "<style scoped>\n",
       "    .dataframe tbody tr th:only-of-type {\n",
       "        vertical-align: middle;\n",
       "    }\n",
       "\n",
       "    .dataframe tbody tr th {\n",
       "        vertical-align: top;\n",
       "    }\n",
       "\n",
       "    .dataframe thead th {\n",
       "        text-align: right;\n",
       "    }\n",
       "</style>\n",
       "<table border=\"1\" class=\"dataframe\">\n",
       "  <thead>\n",
       "    <tr style=\"text-align: right;\">\n",
       "      <th></th>\n",
       "      <th>Unnamed: 0</th>\n",
       "      <th>MMM-YY</th>\n",
       "      <th>Driver_ID</th>\n",
       "      <th>Age</th>\n",
       "      <th>Gender</th>\n",
       "      <th>City</th>\n",
       "      <th>Education_Level</th>\n",
       "      <th>Income</th>\n",
       "      <th>Dateofjoining</th>\n",
       "      <th>LastWorkingDate</th>\n",
       "      <th>Joining Designation</th>\n",
       "      <th>Grade</th>\n",
       "      <th>Total Business Value</th>\n",
       "      <th>Quarterly Rating</th>\n",
       "    </tr>\n",
       "  </thead>\n",
       "  <tbody>\n",
       "    <tr>\n",
       "      <th>0</th>\n",
       "      <td>0</td>\n",
       "      <td>01/01/19</td>\n",
       "      <td>1</td>\n",
       "      <td>28.0</td>\n",
       "      <td>0.0</td>\n",
       "      <td>C23</td>\n",
       "      <td>2</td>\n",
       "      <td>57387</td>\n",
       "      <td>24/12/18</td>\n",
       "      <td>NaN</td>\n",
       "      <td>1</td>\n",
       "      <td>1</td>\n",
       "      <td>2381060</td>\n",
       "      <td>2</td>\n",
       "    </tr>\n",
       "    <tr>\n",
       "      <th>1</th>\n",
       "      <td>1</td>\n",
       "      <td>02/01/19</td>\n",
       "      <td>1</td>\n",
       "      <td>28.0</td>\n",
       "      <td>0.0</td>\n",
       "      <td>C23</td>\n",
       "      <td>2</td>\n",
       "      <td>57387</td>\n",
       "      <td>24/12/18</td>\n",
       "      <td>NaN</td>\n",
       "      <td>1</td>\n",
       "      <td>1</td>\n",
       "      <td>-665480</td>\n",
       "      <td>2</td>\n",
       "    </tr>\n",
       "    <tr>\n",
       "      <th>2</th>\n",
       "      <td>2</td>\n",
       "      <td>03/01/19</td>\n",
       "      <td>1</td>\n",
       "      <td>28.0</td>\n",
       "      <td>0.0</td>\n",
       "      <td>C23</td>\n",
       "      <td>2</td>\n",
       "      <td>57387</td>\n",
       "      <td>24/12/18</td>\n",
       "      <td>03/11/19</td>\n",
       "      <td>1</td>\n",
       "      <td>1</td>\n",
       "      <td>0</td>\n",
       "      <td>2</td>\n",
       "    </tr>\n",
       "    <tr>\n",
       "      <th>3</th>\n",
       "      <td>3</td>\n",
       "      <td>11/01/20</td>\n",
       "      <td>2</td>\n",
       "      <td>31.0</td>\n",
       "      <td>0.0</td>\n",
       "      <td>C7</td>\n",
       "      <td>2</td>\n",
       "      <td>67016</td>\n",
       "      <td>11/06/20</td>\n",
       "      <td>NaN</td>\n",
       "      <td>2</td>\n",
       "      <td>2</td>\n",
       "      <td>0</td>\n",
       "      <td>1</td>\n",
       "    </tr>\n",
       "    <tr>\n",
       "      <th>4</th>\n",
       "      <td>4</td>\n",
       "      <td>12/01/20</td>\n",
       "      <td>2</td>\n",
       "      <td>31.0</td>\n",
       "      <td>0.0</td>\n",
       "      <td>C7</td>\n",
       "      <td>2</td>\n",
       "      <td>67016</td>\n",
       "      <td>11/06/20</td>\n",
       "      <td>NaN</td>\n",
       "      <td>2</td>\n",
       "      <td>2</td>\n",
       "      <td>0</td>\n",
       "      <td>1</td>\n",
       "    </tr>\n",
       "  </tbody>\n",
       "</table>\n",
       "</div>"
      ],
      "text/plain": [
       "   Unnamed: 0    MMM-YY  Driver_ID   Age  Gender City  Education_Level  \\\n",
       "0           0  01/01/19          1  28.0     0.0  C23                2   \n",
       "1           1  02/01/19          1  28.0     0.0  C23                2   \n",
       "2           2  03/01/19          1  28.0     0.0  C23                2   \n",
       "3           3  11/01/20          2  31.0     0.0   C7                2   \n",
       "4           4  12/01/20          2  31.0     0.0   C7                2   \n",
       "\n",
       "   Income Dateofjoining LastWorkingDate  Joining Designation  Grade  \\\n",
       "0   57387      24/12/18             NaN                    1      1   \n",
       "1   57387      24/12/18             NaN                    1      1   \n",
       "2   57387      24/12/18        03/11/19                    1      1   \n",
       "3   67016      11/06/20             NaN                    2      2   \n",
       "4   67016      11/06/20             NaN                    2      2   \n",
       "\n",
       "   Total Business Value  Quarterly Rating  \n",
       "0               2381060                 2  \n",
       "1               -665480                 2  \n",
       "2                     0                 2  \n",
       "3                     0                 1  \n",
       "4                     0                 1  "
      ]
     },
     "execution_count": 3,
     "metadata": {},
     "output_type": "execute_result"
    }
   ],
   "source": [
    "ola.head()"
   ]
  },
  {
   "cell_type": "code",
   "execution_count": 4,
   "id": "b30ea272",
   "metadata": {},
   "outputs": [],
   "source": [
    "# EXPLORATORY DATA ANALYSIS (EDA)"
   ]
  },
  {
   "cell_type": "code",
   "execution_count": 5,
   "id": "d7287eea",
   "metadata": {},
   "outputs": [
    {
     "name": "stdout",
     "output_type": "stream",
     "text": [
      "<class 'pandas.core.frame.DataFrame'>\n",
      "RangeIndex: 19104 entries, 0 to 19103\n",
      "Data columns (total 14 columns):\n",
      " #   Column                Non-Null Count  Dtype  \n",
      "---  ------                --------------  -----  \n",
      " 0   Unnamed: 0            19104 non-null  int64  \n",
      " 1   MMM-YY                19104 non-null  object \n",
      " 2   Driver_ID             19104 non-null  int64  \n",
      " 3   Age                   19043 non-null  float64\n",
      " 4   Gender                19052 non-null  float64\n",
      " 5   City                  19104 non-null  object \n",
      " 6   Education_Level       19104 non-null  int64  \n",
      " 7   Income                19104 non-null  int64  \n",
      " 8   Dateofjoining         19104 non-null  object \n",
      " 9   LastWorkingDate       1616 non-null   object \n",
      " 10  Joining Designation   19104 non-null  int64  \n",
      " 11  Grade                 19104 non-null  int64  \n",
      " 12  Total Business Value  19104 non-null  int64  \n",
      " 13  Quarterly Rating      19104 non-null  int64  \n",
      "dtypes: float64(2), int64(8), object(4)\n",
      "memory usage: 2.0+ MB\n"
     ]
    }
   ],
   "source": [
    "ola.info()"
   ]
  },
  {
   "cell_type": "code",
   "execution_count": 6,
   "id": "b1ccdaae",
   "metadata": {},
   "outputs": [],
   "source": [
    "# Dropping 'Unnamed: 0' column\n",
    "ola.drop(columns = 'Unnamed: 0', axis = 1, inplace = True)"
   ]
  },
  {
   "cell_type": "code",
   "execution_count": 7,
   "id": "6ec75f04",
   "metadata": {},
   "outputs": [
    {
     "data": {
      "text/plain": [
       "Index(['MMM-YY', 'Driver_ID', 'Age', 'Gender', 'City', 'Education_Level',\n",
       "       'Income', 'Dateofjoining', 'LastWorkingDate', 'Joining Designation',\n",
       "       'Grade', 'Total Business Value', 'Quarterly Rating'],\n",
       "      dtype='object')"
      ]
     },
     "execution_count": 7,
     "metadata": {},
     "output_type": "execute_result"
    }
   ],
   "source": [
    "ola.columns"
   ]
  },
  {
   "cell_type": "code",
   "execution_count": 8,
   "id": "fe7194f4",
   "metadata": {},
   "outputs": [
    {
     "data": {
      "text/plain": [
       "(19104, 13)"
      ]
     },
     "execution_count": 8,
     "metadata": {},
     "output_type": "execute_result"
    }
   ],
   "source": [
    "ola.shape"
   ]
  },
  {
   "cell_type": "code",
   "execution_count": 9,
   "id": "a689c009",
   "metadata": {},
   "outputs": [],
   "source": [
    "## Checking the datatypes of the columns"
   ]
  },
  {
   "cell_type": "code",
   "execution_count": 10,
   "id": "9f253175",
   "metadata": {},
   "outputs": [
    {
     "data": {
      "text/plain": [
       "MMM-YY                   object\n",
       "Driver_ID                 int64\n",
       "Age                     float64\n",
       "Gender                  float64\n",
       "City                     object\n",
       "Education_Level           int64\n",
       "Income                    int64\n",
       "Dateofjoining            object\n",
       "LastWorkingDate          object\n",
       "Joining Designation       int64\n",
       "Grade                     int64\n",
       "Total Business Value      int64\n",
       "Quarterly Rating          int64\n",
       "dtype: object"
      ]
     },
     "execution_count": 10,
     "metadata": {},
     "output_type": "execute_result"
    }
   ],
   "source": [
    "ola.dtypes"
   ]
  },
  {
   "cell_type": "code",
   "execution_count": 11,
   "id": "e775a1df",
   "metadata": {},
   "outputs": [],
   "source": [
    "## Changing the datatypes of the columns to their respective datatypes"
   ]
  },
  {
   "cell_type": "code",
   "execution_count": 12,
   "id": "68aa2355",
   "metadata": {},
   "outputs": [
    {
     "name": "stderr",
     "output_type": "stream",
     "text": [
      "C:\\Users\\Admin\\AppData\\Local\\Temp\\ipykernel_67888\\1572071455.py:1: UserWarning: Could not infer format, so each element will be parsed individually, falling back to `dateutil`. To ensure parsing is consistent and as-expected, please specify a format.\n",
      "  ola['MMM-YY'] = pd.to_datetime(ola['MMM-YY'])\n",
      "C:\\Users\\Admin\\AppData\\Local\\Temp\\ipykernel_67888\\1572071455.py:2: UserWarning: Could not infer format, so each element will be parsed individually, falling back to `dateutil`. To ensure parsing is consistent and as-expected, please specify a format.\n",
      "  ola['Dateofjoining'] = pd.to_datetime(ola['Dateofjoining'])\n",
      "C:\\Users\\Admin\\AppData\\Local\\Temp\\ipykernel_67888\\1572071455.py:3: UserWarning: Could not infer format, so each element will be parsed individually, falling back to `dateutil`. To ensure parsing is consistent and as-expected, please specify a format.\n",
      "  ola['LastWorkingDate'] = pd.to_datetime(ola['LastWorkingDate'])\n"
     ]
    }
   ],
   "source": [
    "ola['MMM-YY'] = pd.to_datetime(ola['MMM-YY'])\n",
    "ola['Dateofjoining'] = pd.to_datetime(ola['Dateofjoining'])\n",
    "ola['LastWorkingDate'] = pd.to_datetime(ola['LastWorkingDate'])"
   ]
  },
  {
   "cell_type": "code",
   "execution_count": 13,
   "id": "493ed2f8",
   "metadata": {},
   "outputs": [
    {
     "data": {
      "text/plain": [
       "MMM-YY                  datetime64[ns]\n",
       "Driver_ID                        int64\n",
       "Age                            float64\n",
       "Gender                         float64\n",
       "City                            object\n",
       "Education_Level                  int64\n",
       "Income                           int64\n",
       "Dateofjoining           datetime64[ns]\n",
       "LastWorkingDate         datetime64[ns]\n",
       "Joining Designation              int64\n",
       "Grade                            int64\n",
       "Total Business Value             int64\n",
       "Quarterly Rating                 int64\n",
       "dtype: object"
      ]
     },
     "execution_count": 13,
     "metadata": {},
     "output_type": "execute_result"
    }
   ],
   "source": [
    "ola.dtypes"
   ]
  },
  {
   "cell_type": "code",
   "execution_count": 14,
   "id": "d639e92b",
   "metadata": {},
   "outputs": [],
   "source": [
    "## Checking missing Values"
   ]
  },
  {
   "cell_type": "code",
   "execution_count": 15,
   "id": "de5a1793",
   "metadata": {},
   "outputs": [
    {
     "data": {
      "text/plain": [
       "MMM-YY                      0\n",
       "Driver_ID                   0\n",
       "Age                        61\n",
       "Gender                     52\n",
       "City                        0\n",
       "Education_Level             0\n",
       "Income                      0\n",
       "Dateofjoining               0\n",
       "LastWorkingDate         17488\n",
       "Joining Designation         0\n",
       "Grade                       0\n",
       "Total Business Value        0\n",
       "Quarterly Rating            0\n",
       "dtype: int64"
      ]
     },
     "execution_count": 15,
     "metadata": {},
     "output_type": "execute_result"
    }
   ],
   "source": [
    "ola.isna().sum()"
   ]
  },
  {
   "cell_type": "code",
   "execution_count": 16,
   "id": "4b22dfde",
   "metadata": {},
   "outputs": [],
   "source": [
    "# Insight: Above table shows Age column having 61 missing values, Gender column having 52  missing values and LastWorkingDate having 17488 missing values i.e.17488 drivers have not left the company. "
   ]
  },
  {
   "cell_type": "code",
   "execution_count": 17,
   "id": "d83c80b0",
   "metadata": {},
   "outputs": [
    {
     "data": {
      "text/plain": [
       "Gender\n",
       "0.0    11074\n",
       "1.0     7978\n",
       "Name: count, dtype: int64"
      ]
     },
     "execution_count": 17,
     "metadata": {},
     "output_type": "execute_result"
    }
   ],
   "source": [
    "ola.Gender.value_counts()"
   ]
  },
  {
   "cell_type": "code",
   "execution_count": 18,
   "id": "b18d245e",
   "metadata": {},
   "outputs": [],
   "source": [
    "# Replacing 0.0 with Male and 1.0 with Female "
   ]
  },
  {
   "cell_type": "code",
   "execution_count": 19,
   "id": "ae6d7cc0",
   "metadata": {},
   "outputs": [],
   "source": [
    "ola['Gender'].replace({0.0:'Male', 1.0:'Female'}, inplace = True)"
   ]
  },
  {
   "cell_type": "code",
   "execution_count": 20,
   "id": "11e09963",
   "metadata": {},
   "outputs": [
    {
     "data": {
      "text/plain": [
       "Gender\n",
       "Male      11074\n",
       "Female     7978\n",
       "Name: count, dtype: int64"
      ]
     },
     "execution_count": 20,
     "metadata": {},
     "output_type": "execute_result"
    }
   ],
   "source": [
    "ola.Gender.value_counts()"
   ]
  },
  {
   "cell_type": "code",
   "execution_count": 21,
   "id": "2509bd9c",
   "metadata": {},
   "outputs": [],
   "source": [
    "## Replacing missing values using KNN Imputer"
   ]
  },
  {
   "cell_type": "code",
   "execution_count": 22,
   "id": "3d7aa4a8",
   "metadata": {},
   "outputs": [
    {
     "data": {
      "text/plain": [
       "Index(['Driver_ID', 'Age', 'Education_Level', 'Income', 'Joining Designation',\n",
       "       'Grade', 'Total Business Value', 'Quarterly Rating'],\n",
       "      dtype='object')"
      ]
     },
     "execution_count": 22,
     "metadata": {},
     "output_type": "execute_result"
    }
   ],
   "source": [
    "ola.select_dtypes(np.number).columns"
   ]
  },
  {
   "cell_type": "code",
   "execution_count": 23,
   "id": "f9d63e96",
   "metadata": {},
   "outputs": [],
   "source": [
    "num_data = ola.select_dtypes(np.number)"
   ]
  },
  {
   "cell_type": "code",
   "execution_count": 24,
   "id": "79805824",
   "metadata": {},
   "outputs": [],
   "source": [
    "imputer = KNNImputer(n_neighbors = 5, weights = 'uniform', metric = 'nan_euclidean')"
   ]
  },
  {
   "cell_type": "code",
   "execution_count": 25,
   "id": "729e5c0f",
   "metadata": {},
   "outputs": [],
   "source": [
    "ola1 = imputer.fit_transform(num_data)"
   ]
  },
  {
   "cell_type": "code",
   "execution_count": 26,
   "id": "43a8dbf2",
   "metadata": {},
   "outputs": [],
   "source": [
    "ola1 = pd.DataFrame(ola1)"
   ]
  },
  {
   "cell_type": "code",
   "execution_count": 27,
   "id": "78dde69a",
   "metadata": {},
   "outputs": [],
   "source": [
    "ola1.columns = num_data.columns"
   ]
  },
  {
   "cell_type": "code",
   "execution_count": 28,
   "id": "d6d2dc0f",
   "metadata": {},
   "outputs": [
    {
     "data": {
      "text/plain": [
       "Driver_ID               0\n",
       "Age                     0\n",
       "Education_Level         0\n",
       "Income                  0\n",
       "Joining Designation     0\n",
       "Grade                   0\n",
       "Total Business Value    0\n",
       "Quarterly Rating        0\n",
       "dtype: int64"
      ]
     },
     "execution_count": 28,
     "metadata": {},
     "output_type": "execute_result"
    }
   ],
   "source": [
    "ola1.isnull().sum()"
   ]
  },
  {
   "cell_type": "code",
   "execution_count": 29,
   "id": "656ad683",
   "metadata": {},
   "outputs": [],
   "source": [
    "## All missing values have been imputed."
   ]
  },
  {
   "cell_type": "code",
   "execution_count": 30,
   "id": "eea885d8",
   "metadata": {},
   "outputs": [],
   "source": [
    "rem = list(set(ola.columns).difference(set(ola1.columns)))"
   ]
  },
  {
   "cell_type": "code",
   "execution_count": 31,
   "id": "b388f022",
   "metadata": {},
   "outputs": [
    {
     "data": {
      "text/plain": [
       "Index(['Driver_ID', 'Age', 'Education_Level', 'Income', 'Joining Designation',\n",
       "       'Grade', 'Total Business Value', 'Quarterly Rating'],\n",
       "      dtype='object')"
      ]
     },
     "execution_count": 31,
     "metadata": {},
     "output_type": "execute_result"
    }
   ],
   "source": [
    "ola1.columns"
   ]
  },
  {
   "cell_type": "code",
   "execution_count": 32,
   "id": "9d668188",
   "metadata": {},
   "outputs": [],
   "source": [
    "new_df = pd.concat([ola1,ola[rem]],axis = 1)"
   ]
  },
  {
   "cell_type": "code",
   "execution_count": 33,
   "id": "f1460e72",
   "metadata": {},
   "outputs": [
    {
     "data": {
      "text/plain": [
       "Index(['Driver_ID', 'Age', 'Education_Level', 'Income', 'Joining Designation',\n",
       "       'Grade', 'Total Business Value', 'Quarterly Rating', 'Gender',\n",
       "       'LastWorkingDate', 'Dateofjoining', 'City', 'MMM-YY'],\n",
       "      dtype='object')"
      ]
     },
     "execution_count": 33,
     "metadata": {},
     "output_type": "execute_result"
    }
   ],
   "source": [
    "new_df.columns"
   ]
  },
  {
   "cell_type": "code",
   "execution_count": 34,
   "id": "fa15aad4",
   "metadata": {},
   "outputs": [],
   "source": [
    "agg_function = {'Age':'max',\n",
    "               'Education_Level':'last',\n",
    "               'Income':'last',\n",
    "               'Joining Designation':'last',\n",
    "               'Grade':'last',\n",
    "               'Total Business Value':'sum',\n",
    "               'Quarterly Rating':'last',\n",
    "               'Gender':'first',\n",
    "               'Dateofjoining':'last',\n",
    "               'LastWorkingDate':'last',\n",
    "               'City':'first',\n",
    "               }"
   ]
  },
  {
   "cell_type": "code",
   "execution_count": 35,
   "id": "0158aa97",
   "metadata": {},
   "outputs": [],
   "source": [
    "agg_df = new_df.groupby(['Driver_ID','MMM-YY']).aggregate(agg_function).sort_index(ascending = [True,True])"
   ]
  },
  {
   "cell_type": "code",
   "execution_count": 36,
   "id": "8278cd18",
   "metadata": {},
   "outputs": [
    {
     "data": {
      "text/html": [
       "<div>\n",
       "<style scoped>\n",
       "    .dataframe tbody tr th:only-of-type {\n",
       "        vertical-align: middle;\n",
       "    }\n",
       "\n",
       "    .dataframe tbody tr th {\n",
       "        vertical-align: top;\n",
       "    }\n",
       "\n",
       "    .dataframe thead th {\n",
       "        text-align: right;\n",
       "    }\n",
       "</style>\n",
       "<table border=\"1\" class=\"dataframe\">\n",
       "  <thead>\n",
       "    <tr style=\"text-align: right;\">\n",
       "      <th></th>\n",
       "      <th></th>\n",
       "      <th>Age</th>\n",
       "      <th>Education_Level</th>\n",
       "      <th>Income</th>\n",
       "      <th>Joining Designation</th>\n",
       "      <th>Grade</th>\n",
       "      <th>Total Business Value</th>\n",
       "      <th>Quarterly Rating</th>\n",
       "      <th>Gender</th>\n",
       "      <th>Dateofjoining</th>\n",
       "      <th>LastWorkingDate</th>\n",
       "      <th>City</th>\n",
       "    </tr>\n",
       "    <tr>\n",
       "      <th>Driver_ID</th>\n",
       "      <th>MMM-YY</th>\n",
       "      <th></th>\n",
       "      <th></th>\n",
       "      <th></th>\n",
       "      <th></th>\n",
       "      <th></th>\n",
       "      <th></th>\n",
       "      <th></th>\n",
       "      <th></th>\n",
       "      <th></th>\n",
       "      <th></th>\n",
       "      <th></th>\n",
       "    </tr>\n",
       "  </thead>\n",
       "  <tbody>\n",
       "    <tr>\n",
       "      <th rowspan=\"3\" valign=\"top\">1.0</th>\n",
       "      <th>2019-01-01</th>\n",
       "      <td>28.0</td>\n",
       "      <td>2.0</td>\n",
       "      <td>57387.0</td>\n",
       "      <td>1.0</td>\n",
       "      <td>1.0</td>\n",
       "      <td>2381060.0</td>\n",
       "      <td>2.0</td>\n",
       "      <td>Male</td>\n",
       "      <td>2018-12-24</td>\n",
       "      <td>NaT</td>\n",
       "      <td>C23</td>\n",
       "    </tr>\n",
       "    <tr>\n",
       "      <th>2019-02-01</th>\n",
       "      <td>28.0</td>\n",
       "      <td>2.0</td>\n",
       "      <td>57387.0</td>\n",
       "      <td>1.0</td>\n",
       "      <td>1.0</td>\n",
       "      <td>-665480.0</td>\n",
       "      <td>2.0</td>\n",
       "      <td>Male</td>\n",
       "      <td>2018-12-24</td>\n",
       "      <td>NaT</td>\n",
       "      <td>C23</td>\n",
       "    </tr>\n",
       "    <tr>\n",
       "      <th>2019-03-01</th>\n",
       "      <td>28.0</td>\n",
       "      <td>2.0</td>\n",
       "      <td>57387.0</td>\n",
       "      <td>1.0</td>\n",
       "      <td>1.0</td>\n",
       "      <td>0.0</td>\n",
       "      <td>2.0</td>\n",
       "      <td>Male</td>\n",
       "      <td>2018-12-24</td>\n",
       "      <td>2019-03-11</td>\n",
       "      <td>C23</td>\n",
       "    </tr>\n",
       "    <tr>\n",
       "      <th rowspan=\"2\" valign=\"top\">2.0</th>\n",
       "      <th>2020-11-01</th>\n",
       "      <td>31.0</td>\n",
       "      <td>2.0</td>\n",
       "      <td>67016.0</td>\n",
       "      <td>2.0</td>\n",
       "      <td>2.0</td>\n",
       "      <td>0.0</td>\n",
       "      <td>1.0</td>\n",
       "      <td>Male</td>\n",
       "      <td>2020-11-06</td>\n",
       "      <td>NaT</td>\n",
       "      <td>C7</td>\n",
       "    </tr>\n",
       "    <tr>\n",
       "      <th>2020-12-01</th>\n",
       "      <td>31.0</td>\n",
       "      <td>2.0</td>\n",
       "      <td>67016.0</td>\n",
       "      <td>2.0</td>\n",
       "      <td>2.0</td>\n",
       "      <td>0.0</td>\n",
       "      <td>1.0</td>\n",
       "      <td>Male</td>\n",
       "      <td>2020-11-06</td>\n",
       "      <td>NaT</td>\n",
       "      <td>C7</td>\n",
       "    </tr>\n",
       "    <tr>\n",
       "      <th rowspan=\"5\" valign=\"top\">4.0</th>\n",
       "      <th>2019-12-01</th>\n",
       "      <td>43.0</td>\n",
       "      <td>2.0</td>\n",
       "      <td>65603.0</td>\n",
       "      <td>2.0</td>\n",
       "      <td>2.0</td>\n",
       "      <td>0.0</td>\n",
       "      <td>1.0</td>\n",
       "      <td>Male</td>\n",
       "      <td>2019-12-07</td>\n",
       "      <td>NaT</td>\n",
       "      <td>C13</td>\n",
       "    </tr>\n",
       "    <tr>\n",
       "      <th>2020-01-01</th>\n",
       "      <td>43.0</td>\n",
       "      <td>2.0</td>\n",
       "      <td>65603.0</td>\n",
       "      <td>2.0</td>\n",
       "      <td>2.0</td>\n",
       "      <td>0.0</td>\n",
       "      <td>1.0</td>\n",
       "      <td>Male</td>\n",
       "      <td>2019-12-07</td>\n",
       "      <td>NaT</td>\n",
       "      <td>C13</td>\n",
       "    </tr>\n",
       "    <tr>\n",
       "      <th>2020-02-01</th>\n",
       "      <td>43.0</td>\n",
       "      <td>2.0</td>\n",
       "      <td>65603.0</td>\n",
       "      <td>2.0</td>\n",
       "      <td>2.0</td>\n",
       "      <td>0.0</td>\n",
       "      <td>1.0</td>\n",
       "      <td>Male</td>\n",
       "      <td>2019-12-07</td>\n",
       "      <td>NaT</td>\n",
       "      <td>C13</td>\n",
       "    </tr>\n",
       "    <tr>\n",
       "      <th>2020-03-01</th>\n",
       "      <td>43.0</td>\n",
       "      <td>2.0</td>\n",
       "      <td>65603.0</td>\n",
       "      <td>2.0</td>\n",
       "      <td>2.0</td>\n",
       "      <td>350000.0</td>\n",
       "      <td>1.0</td>\n",
       "      <td>Male</td>\n",
       "      <td>2019-12-07</td>\n",
       "      <td>NaT</td>\n",
       "      <td>C13</td>\n",
       "    </tr>\n",
       "    <tr>\n",
       "      <th>2020-04-01</th>\n",
       "      <td>43.0</td>\n",
       "      <td>2.0</td>\n",
       "      <td>65603.0</td>\n",
       "      <td>2.0</td>\n",
       "      <td>2.0</td>\n",
       "      <td>0.0</td>\n",
       "      <td>1.0</td>\n",
       "      <td>Male</td>\n",
       "      <td>2019-12-07</td>\n",
       "      <td>2020-04-27</td>\n",
       "      <td>C13</td>\n",
       "    </tr>\n",
       "  </tbody>\n",
       "</table>\n",
       "</div>"
      ],
      "text/plain": [
       "                       Age  Education_Level   Income  Joining Designation  \\\n",
       "Driver_ID MMM-YY                                                            \n",
       "1.0       2019-01-01  28.0              2.0  57387.0                  1.0   \n",
       "          2019-02-01  28.0              2.0  57387.0                  1.0   \n",
       "          2019-03-01  28.0              2.0  57387.0                  1.0   \n",
       "2.0       2020-11-01  31.0              2.0  67016.0                  2.0   \n",
       "          2020-12-01  31.0              2.0  67016.0                  2.0   \n",
       "4.0       2019-12-01  43.0              2.0  65603.0                  2.0   \n",
       "          2020-01-01  43.0              2.0  65603.0                  2.0   \n",
       "          2020-02-01  43.0              2.0  65603.0                  2.0   \n",
       "          2020-03-01  43.0              2.0  65603.0                  2.0   \n",
       "          2020-04-01  43.0              2.0  65603.0                  2.0   \n",
       "\n",
       "                      Grade  Total Business Value  Quarterly Rating Gender  \\\n",
       "Driver_ID MMM-YY                                                             \n",
       "1.0       2019-01-01    1.0             2381060.0               2.0   Male   \n",
       "          2019-02-01    1.0             -665480.0               2.0   Male   \n",
       "          2019-03-01    1.0                   0.0               2.0   Male   \n",
       "2.0       2020-11-01    2.0                   0.0               1.0   Male   \n",
       "          2020-12-01    2.0                   0.0               1.0   Male   \n",
       "4.0       2019-12-01    2.0                   0.0               1.0   Male   \n",
       "          2020-01-01    2.0                   0.0               1.0   Male   \n",
       "          2020-02-01    2.0                   0.0               1.0   Male   \n",
       "          2020-03-01    2.0              350000.0               1.0   Male   \n",
       "          2020-04-01    2.0                   0.0               1.0   Male   \n",
       "\n",
       "                     Dateofjoining LastWorkingDate City  \n",
       "Driver_ID MMM-YY                                         \n",
       "1.0       2019-01-01    2018-12-24             NaT  C23  \n",
       "          2019-02-01    2018-12-24             NaT  C23  \n",
       "          2019-03-01    2018-12-24      2019-03-11  C23  \n",
       "2.0       2020-11-01    2020-11-06             NaT   C7  \n",
       "          2020-12-01    2020-11-06             NaT   C7  \n",
       "4.0       2019-12-01    2019-12-07             NaT  C13  \n",
       "          2020-01-01    2019-12-07             NaT  C13  \n",
       "          2020-02-01    2019-12-07             NaT  C13  \n",
       "          2020-03-01    2019-12-07             NaT  C13  \n",
       "          2020-04-01    2019-12-07      2020-04-27  C13  "
      ]
     },
     "execution_count": 36,
     "metadata": {},
     "output_type": "execute_result"
    }
   ],
   "source": [
    "agg_df.head(10)"
   ]
  },
  {
   "cell_type": "code",
   "execution_count": 37,
   "id": "5f74085d",
   "metadata": {},
   "outputs": [],
   "source": [
    "agg_df.rename(columns = {'Dateofjoining':'Date_of_joining','LastWorkingDate':'Last_Working_Date','Total Business Value':'Total_Business_Value','Joining Designation':'Joining_Designation','Quarterly Rating':'Quarterly_Rating'},inplace = True)"
   ]
  },
  {
   "cell_type": "code",
   "execution_count": 38,
   "id": "ce5f2320",
   "metadata": {},
   "outputs": [
    {
     "data": {
      "text/plain": [
       "Index(['Age', 'Education_Level', 'Income', 'Joining_Designation', 'Grade',\n",
       "       'Total_Business_Value', 'Quarterly_Rating', 'Gender', 'Date_of_joining',\n",
       "       'Last_Working_Date', 'City'],\n",
       "      dtype='object')"
      ]
     },
     "execution_count": 38,
     "metadata": {},
     "output_type": "execute_result"
    }
   ],
   "source": [
    "agg_df.columns"
   ]
  },
  {
   "cell_type": "code",
   "execution_count": 39,
   "id": "eb2893e1",
   "metadata": {},
   "outputs": [],
   "source": [
    "# agg_df['Gender'].replace({'Male':0,'Female':1},inplace = True)"
   ]
  },
  {
   "cell_type": "code",
   "execution_count": 40,
   "id": "22c49695",
   "metadata": {},
   "outputs": [
    {
     "data": {
      "text/plain": [
       "Age                         0\n",
       "Education_Level             0\n",
       "Income                      0\n",
       "Joining_Designation         0\n",
       "Grade                       0\n",
       "Total_Business_Value        0\n",
       "Quarterly_Rating            0\n",
       "Gender                     52\n",
       "Date_of_joining             0\n",
       "Last_Working_Date       17488\n",
       "City                        0\n",
       "dtype: int64"
      ]
     },
     "execution_count": 40,
     "metadata": {},
     "output_type": "execute_result"
    }
   ],
   "source": [
    "agg_df.isna().sum()"
   ]
  },
  {
   "cell_type": "code",
   "execution_count": 41,
   "id": "4e367ff4",
   "metadata": {},
   "outputs": [],
   "source": [
    "final_data = pd.DataFrame()"
   ]
  },
  {
   "cell_type": "code",
   "execution_count": 42,
   "id": "ecfd5333",
   "metadata": {},
   "outputs": [],
   "source": [
    "final_data['Driver_ID'] = new_df['Driver_ID'].unique()\n",
    "final_data['Age'] = list(agg_df.groupby('Driver_ID',axis = 0).max('MMM-YY')['Age'])\n",
    "final_data['Education_Level'] = list(agg_df.groupby('Driver_ID').agg({'Education_Level':'last'})['Education_Level'])\n",
    "final_data['Income'] = list(agg_df.groupby('Driver_ID').agg({'Income':'last'})['Income'])\n",
    "final_data['Joining_Designation'] = list(agg_df.groupby('Driver_ID').agg({'Joining_Designation':'last'})['Joining_Designation'])\n",
    "final_data['Grade'] = list(agg_df.groupby('Driver_ID').agg({'Grade':'last'})['Grade'])\n",
    "final_data['Total_Business_Value'] = list(agg_df.groupby('Driver_ID').agg({'Total_Business_Value':'last'})['Total_Business_Value'])\n",
    "final_data['Quarterly_Rating'] = list(agg_df.groupby('Driver_ID').agg({'Quarterly_Rating':'last'})['Quarterly_Rating'])\n",
    "final_data['Date_of_joining'] = list(agg_df.groupby('Driver_ID').agg({'Date_of_joining':'last'})['Date_of_joining'])\n",
    "final_data['Last_Working_Date'] = list(agg_df.groupby('Driver_ID').agg({'Last_Working_Date':'last'})['Last_Working_Date'])\n",
    "final_data['City'] = list(agg_df.groupby('Driver_ID').agg({'City':'last'})['City'])\n",
    "final_data['Gender'] = list(agg_df.groupby('Driver_ID').agg({'Gender':'last'})['Gender'])"
   ]
  },
  {
   "cell_type": "code",
   "execution_count": 43,
   "id": "bf52bcdb",
   "metadata": {},
   "outputs": [
    {
     "data": {
      "text/plain": [
       "Driver_ID                 0\n",
       "Age                       0\n",
       "Education_Level           0\n",
       "Income                    0\n",
       "Joining_Designation       0\n",
       "Grade                     0\n",
       "Total_Business_Value      0\n",
       "Quarterly_Rating          0\n",
       "Date_of_joining           0\n",
       "Last_Working_Date       765\n",
       "City                      0\n",
       "Gender                    0\n",
       "dtype: int64"
      ]
     },
     "execution_count": 43,
     "metadata": {},
     "output_type": "execute_result"
    }
   ],
   "source": [
    "final_data.isna().sum()"
   ]
  },
  {
   "cell_type": "code",
   "execution_count": 44,
   "id": "db3a32c5",
   "metadata": {},
   "outputs": [
    {
     "data": {
      "text/html": [
       "<div>\n",
       "<style scoped>\n",
       "    .dataframe tbody tr th:only-of-type {\n",
       "        vertical-align: middle;\n",
       "    }\n",
       "\n",
       "    .dataframe tbody tr th {\n",
       "        vertical-align: top;\n",
       "    }\n",
       "\n",
       "    .dataframe thead th {\n",
       "        text-align: right;\n",
       "    }\n",
       "</style>\n",
       "<table border=\"1\" class=\"dataframe\">\n",
       "  <thead>\n",
       "    <tr style=\"text-align: right;\">\n",
       "      <th></th>\n",
       "      <th>Driver_ID</th>\n",
       "      <th>Age</th>\n",
       "      <th>Education_Level</th>\n",
       "      <th>Income</th>\n",
       "      <th>Joining_Designation</th>\n",
       "      <th>Grade</th>\n",
       "      <th>Total_Business_Value</th>\n",
       "      <th>Quarterly_Rating</th>\n",
       "      <th>Date_of_joining</th>\n",
       "      <th>Last_Working_Date</th>\n",
       "      <th>City</th>\n",
       "      <th>Gender</th>\n",
       "    </tr>\n",
       "  </thead>\n",
       "  <tbody>\n",
       "    <tr>\n",
       "      <th>0</th>\n",
       "      <td>1.0</td>\n",
       "      <td>28.0</td>\n",
       "      <td>2.0</td>\n",
       "      <td>57387.0</td>\n",
       "      <td>1.0</td>\n",
       "      <td>1.0</td>\n",
       "      <td>0.0</td>\n",
       "      <td>2.0</td>\n",
       "      <td>2018-12-24</td>\n",
       "      <td>2019-03-11</td>\n",
       "      <td>C23</td>\n",
       "      <td>Male</td>\n",
       "    </tr>\n",
       "    <tr>\n",
       "      <th>1</th>\n",
       "      <td>2.0</td>\n",
       "      <td>31.0</td>\n",
       "      <td>2.0</td>\n",
       "      <td>67016.0</td>\n",
       "      <td>2.0</td>\n",
       "      <td>2.0</td>\n",
       "      <td>0.0</td>\n",
       "      <td>1.0</td>\n",
       "      <td>2020-11-06</td>\n",
       "      <td>NaT</td>\n",
       "      <td>C7</td>\n",
       "      <td>Male</td>\n",
       "    </tr>\n",
       "    <tr>\n",
       "      <th>2</th>\n",
       "      <td>4.0</td>\n",
       "      <td>43.0</td>\n",
       "      <td>2.0</td>\n",
       "      <td>65603.0</td>\n",
       "      <td>2.0</td>\n",
       "      <td>2.0</td>\n",
       "      <td>0.0</td>\n",
       "      <td>1.0</td>\n",
       "      <td>2019-12-07</td>\n",
       "      <td>2020-04-27</td>\n",
       "      <td>C13</td>\n",
       "      <td>Male</td>\n",
       "    </tr>\n",
       "    <tr>\n",
       "      <th>3</th>\n",
       "      <td>5.0</td>\n",
       "      <td>29.0</td>\n",
       "      <td>0.0</td>\n",
       "      <td>46368.0</td>\n",
       "      <td>1.0</td>\n",
       "      <td>1.0</td>\n",
       "      <td>0.0</td>\n",
       "      <td>1.0</td>\n",
       "      <td>2019-01-09</td>\n",
       "      <td>2019-03-07</td>\n",
       "      <td>C9</td>\n",
       "      <td>Male</td>\n",
       "    </tr>\n",
       "    <tr>\n",
       "      <th>4</th>\n",
       "      <td>6.0</td>\n",
       "      <td>31.0</td>\n",
       "      <td>1.0</td>\n",
       "      <td>78728.0</td>\n",
       "      <td>3.0</td>\n",
       "      <td>3.0</td>\n",
       "      <td>0.0</td>\n",
       "      <td>2.0</td>\n",
       "      <td>2020-07-31</td>\n",
       "      <td>NaT</td>\n",
       "      <td>C11</td>\n",
       "      <td>Female</td>\n",
       "    </tr>\n",
       "  </tbody>\n",
       "</table>\n",
       "</div>"
      ],
      "text/plain": [
       "   Driver_ID   Age  Education_Level   Income  Joining_Designation  Grade  \\\n",
       "0        1.0  28.0              2.0  57387.0                  1.0    1.0   \n",
       "1        2.0  31.0              2.0  67016.0                  2.0    2.0   \n",
       "2        4.0  43.0              2.0  65603.0                  2.0    2.0   \n",
       "3        5.0  29.0              0.0  46368.0                  1.0    1.0   \n",
       "4        6.0  31.0              1.0  78728.0                  3.0    3.0   \n",
       "\n",
       "   Total_Business_Value  Quarterly_Rating Date_of_joining Last_Working_Date  \\\n",
       "0                   0.0               2.0      2018-12-24        2019-03-11   \n",
       "1                   0.0               1.0      2020-11-06               NaT   \n",
       "2                   0.0               1.0      2019-12-07        2020-04-27   \n",
       "3                   0.0               1.0      2019-01-09        2019-03-07   \n",
       "4                   0.0               2.0      2020-07-31               NaT   \n",
       "\n",
       "  City  Gender  \n",
       "0  C23    Male  \n",
       "1   C7    Male  \n",
       "2  C13    Male  \n",
       "3   C9    Male  \n",
       "4  C11  Female  "
      ]
     },
     "execution_count": 44,
     "metadata": {},
     "output_type": "execute_result"
    }
   ],
   "source": [
    "final_data.head()"
   ]
  },
  {
   "cell_type": "code",
   "execution_count": 45,
   "id": "fa25d1b3",
   "metadata": {},
   "outputs": [],
   "source": [
    "## FEATURE ENGINEERING"
   ]
  },
  {
   "cell_type": "code",
   "execution_count": 46,
   "id": "8ea8c1b0",
   "metadata": {},
   "outputs": [],
   "source": [
    "## Create a column which tells whether the quarterly rating has increased for that driver - for those whose quarterly rating has increased we assign the value 1."
   ]
  },
  {
   "cell_type": "code",
   "execution_count": 47,
   "id": "66a07cc4",
   "metadata": {},
   "outputs": [],
   "source": [
    "QR1 = (agg_df.groupby('Driver_ID').agg({'Quarterly_Rating':'first'}))\n",
    "QR2 = (agg_df.groupby('Driver_ID').agg({'Quarterly_Rating':'last'}))"
   ]
  },
  {
   "cell_type": "code",
   "execution_count": 48,
   "id": "8b3892cc",
   "metadata": {},
   "outputs": [],
   "source": [
    "qr = pd.DataFrame()"
   ]
  },
  {
   "cell_type": "code",
   "execution_count": 49,
   "id": "2a54b4d8",
   "metadata": {},
   "outputs": [],
   "source": [
    "qr = (QR2['Quarterly_Rating'] > QR1['Quarterly_Rating']).reset_index()"
   ]
  },
  {
   "cell_type": "code",
   "execution_count": 50,
   "id": "d7758360",
   "metadata": {},
   "outputs": [
    {
     "data": {
      "text/html": [
       "<div>\n",
       "<style scoped>\n",
       "    .dataframe tbody tr th:only-of-type {\n",
       "        vertical-align: middle;\n",
       "    }\n",
       "\n",
       "    .dataframe tbody tr th {\n",
       "        vertical-align: top;\n",
       "    }\n",
       "\n",
       "    .dataframe thead th {\n",
       "        text-align: right;\n",
       "    }\n",
       "</style>\n",
       "<table border=\"1\" class=\"dataframe\">\n",
       "  <thead>\n",
       "    <tr style=\"text-align: right;\">\n",
       "      <th></th>\n",
       "      <th>Driver_ID</th>\n",
       "      <th>Quarterly_Rating</th>\n",
       "    </tr>\n",
       "  </thead>\n",
       "  <tbody>\n",
       "    <tr>\n",
       "      <th>0</th>\n",
       "      <td>1.0</td>\n",
       "      <td>False</td>\n",
       "    </tr>\n",
       "    <tr>\n",
       "      <th>1</th>\n",
       "      <td>2.0</td>\n",
       "      <td>False</td>\n",
       "    </tr>\n",
       "    <tr>\n",
       "      <th>2</th>\n",
       "      <td>4.0</td>\n",
       "      <td>False</td>\n",
       "    </tr>\n",
       "    <tr>\n",
       "      <th>3</th>\n",
       "      <td>5.0</td>\n",
       "      <td>False</td>\n",
       "    </tr>\n",
       "    <tr>\n",
       "      <th>4</th>\n",
       "      <td>6.0</td>\n",
       "      <td>True</td>\n",
       "    </tr>\n",
       "  </tbody>\n",
       "</table>\n",
       "</div>"
      ],
      "text/plain": [
       "   Driver_ID  Quarterly_Rating\n",
       "0        1.0             False\n",
       "1        2.0             False\n",
       "2        4.0             False\n",
       "3        5.0             False\n",
       "4        6.0              True"
      ]
     },
     "execution_count": 50,
     "metadata": {},
     "output_type": "execute_result"
    }
   ],
   "source": [
    "qr.head()"
   ]
  },
  {
   "cell_type": "code",
   "execution_count": 51,
   "id": "0ccf1058",
   "metadata": {},
   "outputs": [],
   "source": [
    "empid = qr[qr['Quarterly_Rating'] == True]['Driver_ID']"
   ]
  },
  {
   "cell_type": "code",
   "execution_count": 52,
   "id": "61bcf258",
   "metadata": {},
   "outputs": [],
   "source": [
    "qr1 = []\n",
    "for i in final_data['Driver_ID']:\n",
    "    if i in empid.values:\n",
    "        qr1.append(1)\n",
    "    else:\n",
    "        qr1.append(0)\n",
    "        \n",
    "final_data['Quarterly_Rating_Increased'] = qr1"
   ]
  },
  {
   "cell_type": "code",
   "execution_count": 53,
   "id": "63031492",
   "metadata": {},
   "outputs": [],
   "source": [
    "## Create a column which tells whether the income has increased for that driver - for those whose income has increased we assign the value 1."
   ]
  },
  {
   "cell_type": "code",
   "execution_count": 54,
   "id": "ec80e691",
   "metadata": {},
   "outputs": [],
   "source": [
    "Inc1 = (agg_df.groupby('Driver_ID').agg({'Income':'first'}))\n",
    "Inc2 = (agg_df.groupby('Driver_ID').agg({'Income':'last'}))"
   ]
  },
  {
   "cell_type": "code",
   "execution_count": 55,
   "id": "531480a7",
   "metadata": {},
   "outputs": [],
   "source": [
    "Inc = pd.DataFrame()\n",
    "Inc = (Inc2['Income'] > Inc1['Income']).reset_index()"
   ]
  },
  {
   "cell_type": "code",
   "execution_count": 56,
   "id": "d9f19297",
   "metadata": {},
   "outputs": [],
   "source": [
    "empid_inc = Inc[Inc['Income'] == True]['Driver_ID']"
   ]
  },
  {
   "cell_type": "code",
   "execution_count": 57,
   "id": "8504ba03",
   "metadata": {},
   "outputs": [],
   "source": [
    "inc = []\n",
    "for i in final_data['Driver_ID']:\n",
    "    if i in empid_inc.values:\n",
    "        inc.append(1)\n",
    "    else:\n",
    "        inc.append(0)\n",
    "        \n",
    "final_data['Income_Increased'] = inc"
   ]
  },
  {
   "cell_type": "code",
   "execution_count": 58,
   "id": "b9f95a79",
   "metadata": {},
   "outputs": [
    {
     "data": {
      "text/html": [
       "<div>\n",
       "<style scoped>\n",
       "    .dataframe tbody tr th:only-of-type {\n",
       "        vertical-align: middle;\n",
       "    }\n",
       "\n",
       "    .dataframe tbody tr th {\n",
       "        vertical-align: top;\n",
       "    }\n",
       "\n",
       "    .dataframe thead th {\n",
       "        text-align: right;\n",
       "    }\n",
       "</style>\n",
       "<table border=\"1\" class=\"dataframe\">\n",
       "  <thead>\n",
       "    <tr style=\"text-align: right;\">\n",
       "      <th></th>\n",
       "      <th>Driver_ID</th>\n",
       "      <th>Age</th>\n",
       "      <th>Education_Level</th>\n",
       "      <th>Income</th>\n",
       "      <th>Joining_Designation</th>\n",
       "      <th>Grade</th>\n",
       "      <th>Total_Business_Value</th>\n",
       "      <th>Quarterly_Rating</th>\n",
       "      <th>Date_of_joining</th>\n",
       "      <th>Last_Working_Date</th>\n",
       "      <th>City</th>\n",
       "      <th>Gender</th>\n",
       "      <th>Quarterly_Rating_Increased</th>\n",
       "      <th>Income_Increased</th>\n",
       "    </tr>\n",
       "  </thead>\n",
       "  <tbody>\n",
       "    <tr>\n",
       "      <th>0</th>\n",
       "      <td>1.0</td>\n",
       "      <td>28.0</td>\n",
       "      <td>2.0</td>\n",
       "      <td>57387.0</td>\n",
       "      <td>1.0</td>\n",
       "      <td>1.0</td>\n",
       "      <td>0.0</td>\n",
       "      <td>2.0</td>\n",
       "      <td>2018-12-24</td>\n",
       "      <td>2019-03-11</td>\n",
       "      <td>C23</td>\n",
       "      <td>Male</td>\n",
       "      <td>0</td>\n",
       "      <td>0</td>\n",
       "    </tr>\n",
       "    <tr>\n",
       "      <th>1</th>\n",
       "      <td>2.0</td>\n",
       "      <td>31.0</td>\n",
       "      <td>2.0</td>\n",
       "      <td>67016.0</td>\n",
       "      <td>2.0</td>\n",
       "      <td>2.0</td>\n",
       "      <td>0.0</td>\n",
       "      <td>1.0</td>\n",
       "      <td>2020-11-06</td>\n",
       "      <td>NaT</td>\n",
       "      <td>C7</td>\n",
       "      <td>Male</td>\n",
       "      <td>0</td>\n",
       "      <td>0</td>\n",
       "    </tr>\n",
       "    <tr>\n",
       "      <th>2</th>\n",
       "      <td>4.0</td>\n",
       "      <td>43.0</td>\n",
       "      <td>2.0</td>\n",
       "      <td>65603.0</td>\n",
       "      <td>2.0</td>\n",
       "      <td>2.0</td>\n",
       "      <td>0.0</td>\n",
       "      <td>1.0</td>\n",
       "      <td>2019-12-07</td>\n",
       "      <td>2020-04-27</td>\n",
       "      <td>C13</td>\n",
       "      <td>Male</td>\n",
       "      <td>0</td>\n",
       "      <td>0</td>\n",
       "    </tr>\n",
       "    <tr>\n",
       "      <th>3</th>\n",
       "      <td>5.0</td>\n",
       "      <td>29.0</td>\n",
       "      <td>0.0</td>\n",
       "      <td>46368.0</td>\n",
       "      <td>1.0</td>\n",
       "      <td>1.0</td>\n",
       "      <td>0.0</td>\n",
       "      <td>1.0</td>\n",
       "      <td>2019-01-09</td>\n",
       "      <td>2019-03-07</td>\n",
       "      <td>C9</td>\n",
       "      <td>Male</td>\n",
       "      <td>0</td>\n",
       "      <td>0</td>\n",
       "    </tr>\n",
       "    <tr>\n",
       "      <th>4</th>\n",
       "      <td>6.0</td>\n",
       "      <td>31.0</td>\n",
       "      <td>1.0</td>\n",
       "      <td>78728.0</td>\n",
       "      <td>3.0</td>\n",
       "      <td>3.0</td>\n",
       "      <td>0.0</td>\n",
       "      <td>2.0</td>\n",
       "      <td>2020-07-31</td>\n",
       "      <td>NaT</td>\n",
       "      <td>C11</td>\n",
       "      <td>Female</td>\n",
       "      <td>1</td>\n",
       "      <td>0</td>\n",
       "    </tr>\n",
       "  </tbody>\n",
       "</table>\n",
       "</div>"
      ],
      "text/plain": [
       "   Driver_ID   Age  Education_Level   Income  Joining_Designation  Grade  \\\n",
       "0        1.0  28.0              2.0  57387.0                  1.0    1.0   \n",
       "1        2.0  31.0              2.0  67016.0                  2.0    2.0   \n",
       "2        4.0  43.0              2.0  65603.0                  2.0    2.0   \n",
       "3        5.0  29.0              0.0  46368.0                  1.0    1.0   \n",
       "4        6.0  31.0              1.0  78728.0                  3.0    3.0   \n",
       "\n",
       "   Total_Business_Value  Quarterly_Rating Date_of_joining Last_Working_Date  \\\n",
       "0                   0.0               2.0      2018-12-24        2019-03-11   \n",
       "1                   0.0               1.0      2020-11-06               NaT   \n",
       "2                   0.0               1.0      2019-12-07        2020-04-27   \n",
       "3                   0.0               1.0      2019-01-09        2019-03-07   \n",
       "4                   0.0               2.0      2020-07-31               NaT   \n",
       "\n",
       "  City  Gender  Quarterly_Rating_Increased  Income_Increased  \n",
       "0  C23    Male                           0                 0  \n",
       "1   C7    Male                           0                 0  \n",
       "2  C13    Male                           0                 0  \n",
       "3   C9    Male                           0                 0  \n",
       "4  C11  Female                           1                 0  "
      ]
     },
     "execution_count": 58,
     "metadata": {},
     "output_type": "execute_result"
    }
   ],
   "source": [
    "final_data.head()"
   ]
  },
  {
   "cell_type": "code",
   "execution_count": 90,
   "id": "1515dc1a",
   "metadata": {},
   "outputs": [],
   "source": [
    "## Create a column called target which tells whether the driver has left the company - driver whose last working day is present will have the value 1"
   ]
  },
  {
   "cell_type": "code",
   "execution_count": 94,
   "id": "5dd305ff",
   "metadata": {},
   "outputs": [],
   "source": [
    "final_data['Last_Working_Date'] = pd.Series(np.where(final_data['Last_Working_Date'].isna(),0,1))"
   ]
  },
  {
   "cell_type": "code",
   "execution_count": 95,
   "id": "7aa089b4",
   "metadata": {},
   "outputs": [],
   "source": [
    "target = []\n",
    "for i in final_data['Last_Working_Date']:\n",
    "    if i == 0:\n",
    "        target.append(0)\n",
    "    else:\n",
    "        target.append(1)\n",
    "        \n",
    "final_data['Target'] = target"
   ]
  },
  {
   "cell_type": "code",
   "execution_count": 97,
   "id": "1ba7821f",
   "metadata": {},
   "outputs": [
    {
     "data": {
      "text/html": [
       "<div>\n",
       "<style scoped>\n",
       "    .dataframe tbody tr th:only-of-type {\n",
       "        vertical-align: middle;\n",
       "    }\n",
       "\n",
       "    .dataframe tbody tr th {\n",
       "        vertical-align: top;\n",
       "    }\n",
       "\n",
       "    .dataframe thead th {\n",
       "        text-align: right;\n",
       "    }\n",
       "</style>\n",
       "<table border=\"1\" class=\"dataframe\">\n",
       "  <thead>\n",
       "    <tr style=\"text-align: right;\">\n",
       "      <th></th>\n",
       "      <th>Driver_ID</th>\n",
       "      <th>Age</th>\n",
       "      <th>Education_Level</th>\n",
       "      <th>Income</th>\n",
       "      <th>Joining_Designation</th>\n",
       "      <th>Grade</th>\n",
       "      <th>Total_Business_Value</th>\n",
       "      <th>Quarterly_Rating</th>\n",
       "      <th>Date_of_joining</th>\n",
       "      <th>Last_Working_Date</th>\n",
       "      <th>City</th>\n",
       "      <th>Gender</th>\n",
       "      <th>Quarterly_Rating_Increased</th>\n",
       "      <th>Income_Increased</th>\n",
       "      <th>Target</th>\n",
       "      <th>Month</th>\n",
       "      <th>Year</th>\n",
       "    </tr>\n",
       "  </thead>\n",
       "  <tbody>\n",
       "    <tr>\n",
       "      <th>0</th>\n",
       "      <td>1.0</td>\n",
       "      <td>28.0</td>\n",
       "      <td>2.0</td>\n",
       "      <td>57387.0</td>\n",
       "      <td>1.0</td>\n",
       "      <td>1.0</td>\n",
       "      <td>0.0</td>\n",
       "      <td>2.0</td>\n",
       "      <td>2018-12-24</td>\n",
       "      <td>1</td>\n",
       "      <td>C23</td>\n",
       "      <td>Male</td>\n",
       "      <td>0</td>\n",
       "      <td>0</td>\n",
       "      <td>1</td>\n",
       "      <td>12</td>\n",
       "      <td>2018</td>\n",
       "    </tr>\n",
       "    <tr>\n",
       "      <th>1</th>\n",
       "      <td>2.0</td>\n",
       "      <td>31.0</td>\n",
       "      <td>2.0</td>\n",
       "      <td>67016.0</td>\n",
       "      <td>2.0</td>\n",
       "      <td>2.0</td>\n",
       "      <td>0.0</td>\n",
       "      <td>1.0</td>\n",
       "      <td>2020-11-06</td>\n",
       "      <td>0</td>\n",
       "      <td>C7</td>\n",
       "      <td>Male</td>\n",
       "      <td>0</td>\n",
       "      <td>0</td>\n",
       "      <td>0</td>\n",
       "      <td>11</td>\n",
       "      <td>2020</td>\n",
       "    </tr>\n",
       "    <tr>\n",
       "      <th>2</th>\n",
       "      <td>4.0</td>\n",
       "      <td>43.0</td>\n",
       "      <td>2.0</td>\n",
       "      <td>65603.0</td>\n",
       "      <td>2.0</td>\n",
       "      <td>2.0</td>\n",
       "      <td>0.0</td>\n",
       "      <td>1.0</td>\n",
       "      <td>2019-12-07</td>\n",
       "      <td>1</td>\n",
       "      <td>C13</td>\n",
       "      <td>Male</td>\n",
       "      <td>0</td>\n",
       "      <td>0</td>\n",
       "      <td>1</td>\n",
       "      <td>12</td>\n",
       "      <td>2019</td>\n",
       "    </tr>\n",
       "    <tr>\n",
       "      <th>3</th>\n",
       "      <td>5.0</td>\n",
       "      <td>29.0</td>\n",
       "      <td>0.0</td>\n",
       "      <td>46368.0</td>\n",
       "      <td>1.0</td>\n",
       "      <td>1.0</td>\n",
       "      <td>0.0</td>\n",
       "      <td>1.0</td>\n",
       "      <td>2019-01-09</td>\n",
       "      <td>1</td>\n",
       "      <td>C9</td>\n",
       "      <td>Male</td>\n",
       "      <td>0</td>\n",
       "      <td>0</td>\n",
       "      <td>1</td>\n",
       "      <td>1</td>\n",
       "      <td>2019</td>\n",
       "    </tr>\n",
       "    <tr>\n",
       "      <th>4</th>\n",
       "      <td>6.0</td>\n",
       "      <td>31.0</td>\n",
       "      <td>1.0</td>\n",
       "      <td>78728.0</td>\n",
       "      <td>3.0</td>\n",
       "      <td>3.0</td>\n",
       "      <td>0.0</td>\n",
       "      <td>2.0</td>\n",
       "      <td>2020-07-31</td>\n",
       "      <td>0</td>\n",
       "      <td>C11</td>\n",
       "      <td>Female</td>\n",
       "      <td>1</td>\n",
       "      <td>0</td>\n",
       "      <td>0</td>\n",
       "      <td>7</td>\n",
       "      <td>2020</td>\n",
       "    </tr>\n",
       "  </tbody>\n",
       "</table>\n",
       "</div>"
      ],
      "text/plain": [
       "   Driver_ID   Age  Education_Level   Income  Joining_Designation  Grade  \\\n",
       "0        1.0  28.0              2.0  57387.0                  1.0    1.0   \n",
       "1        2.0  31.0              2.0  67016.0                  2.0    2.0   \n",
       "2        4.0  43.0              2.0  65603.0                  2.0    2.0   \n",
       "3        5.0  29.0              0.0  46368.0                  1.0    1.0   \n",
       "4        6.0  31.0              1.0  78728.0                  3.0    3.0   \n",
       "\n",
       "   Total_Business_Value  Quarterly_Rating Date_of_joining  Last_Working_Date  \\\n",
       "0                   0.0               2.0      2018-12-24                  1   \n",
       "1                   0.0               1.0      2020-11-06                  0   \n",
       "2                   0.0               1.0      2019-12-07                  1   \n",
       "3                   0.0               1.0      2019-01-09                  1   \n",
       "4                   0.0               2.0      2020-07-31                  0   \n",
       "\n",
       "  City  Gender  Quarterly_Rating_Increased  Income_Increased  Target  Month  \\\n",
       "0  C23    Male                           0                 0       1     12   \n",
       "1   C7    Male                           0                 0       0     11   \n",
       "2  C13    Male                           0                 0       1     12   \n",
       "3   C9    Male                           0                 0       1      1   \n",
       "4  C11  Female                           1                 0       0      7   \n",
       "\n",
       "   Year  \n",
       "0  2018  \n",
       "1  2020  \n",
       "2  2019  \n",
       "3  2019  \n",
       "4  2020  "
      ]
     },
     "execution_count": 97,
     "metadata": {},
     "output_type": "execute_result"
    }
   ],
   "source": [
    "final_data.head()"
   ]
  },
  {
   "cell_type": "code",
   "execution_count": 98,
   "id": "03b47880",
   "metadata": {},
   "outputs": [],
   "source": [
    "final_data['Month'] = pd.to_datetime(final_data['Date_of_joining']).dt.month\n",
    "final_data['Year'] = pd.to_datetime(final_data['Date_of_joining']).dt.year"
   ]
  },
  {
   "cell_type": "code",
   "execution_count": 99,
   "id": "e2aefba0",
   "metadata": {},
   "outputs": [
    {
     "data": {
      "text/html": [
       "<div>\n",
       "<style scoped>\n",
       "    .dataframe tbody tr th:only-of-type {\n",
       "        vertical-align: middle;\n",
       "    }\n",
       "\n",
       "    .dataframe tbody tr th {\n",
       "        vertical-align: top;\n",
       "    }\n",
       "\n",
       "    .dataframe thead th {\n",
       "        text-align: right;\n",
       "    }\n",
       "</style>\n",
       "<table border=\"1\" class=\"dataframe\">\n",
       "  <thead>\n",
       "    <tr style=\"text-align: right;\">\n",
       "      <th></th>\n",
       "      <th>Driver_ID</th>\n",
       "      <th>Age</th>\n",
       "      <th>Education_Level</th>\n",
       "      <th>Income</th>\n",
       "      <th>Joining_Designation</th>\n",
       "      <th>Grade</th>\n",
       "      <th>Total_Business_Value</th>\n",
       "      <th>Quarterly_Rating</th>\n",
       "      <th>Date_of_joining</th>\n",
       "      <th>Last_Working_Date</th>\n",
       "      <th>City</th>\n",
       "      <th>Gender</th>\n",
       "      <th>Quarterly_Rating_Increased</th>\n",
       "      <th>Income_Increased</th>\n",
       "      <th>Target</th>\n",
       "      <th>Month</th>\n",
       "      <th>Year</th>\n",
       "    </tr>\n",
       "  </thead>\n",
       "  <tbody>\n",
       "    <tr>\n",
       "      <th>0</th>\n",
       "      <td>1.0</td>\n",
       "      <td>28.0</td>\n",
       "      <td>2.0</td>\n",
       "      <td>57387.0</td>\n",
       "      <td>1.0</td>\n",
       "      <td>1.0</td>\n",
       "      <td>0.0</td>\n",
       "      <td>2.0</td>\n",
       "      <td>2018-12-24</td>\n",
       "      <td>1</td>\n",
       "      <td>C23</td>\n",
       "      <td>Male</td>\n",
       "      <td>0</td>\n",
       "      <td>0</td>\n",
       "      <td>1</td>\n",
       "      <td>12</td>\n",
       "      <td>2018</td>\n",
       "    </tr>\n",
       "    <tr>\n",
       "      <th>1</th>\n",
       "      <td>2.0</td>\n",
       "      <td>31.0</td>\n",
       "      <td>2.0</td>\n",
       "      <td>67016.0</td>\n",
       "      <td>2.0</td>\n",
       "      <td>2.0</td>\n",
       "      <td>0.0</td>\n",
       "      <td>1.0</td>\n",
       "      <td>2020-11-06</td>\n",
       "      <td>0</td>\n",
       "      <td>C7</td>\n",
       "      <td>Male</td>\n",
       "      <td>0</td>\n",
       "      <td>0</td>\n",
       "      <td>0</td>\n",
       "      <td>11</td>\n",
       "      <td>2020</td>\n",
       "    </tr>\n",
       "    <tr>\n",
       "      <th>2</th>\n",
       "      <td>4.0</td>\n",
       "      <td>43.0</td>\n",
       "      <td>2.0</td>\n",
       "      <td>65603.0</td>\n",
       "      <td>2.0</td>\n",
       "      <td>2.0</td>\n",
       "      <td>0.0</td>\n",
       "      <td>1.0</td>\n",
       "      <td>2019-12-07</td>\n",
       "      <td>1</td>\n",
       "      <td>C13</td>\n",
       "      <td>Male</td>\n",
       "      <td>0</td>\n",
       "      <td>0</td>\n",
       "      <td>1</td>\n",
       "      <td>12</td>\n",
       "      <td>2019</td>\n",
       "    </tr>\n",
       "    <tr>\n",
       "      <th>3</th>\n",
       "      <td>5.0</td>\n",
       "      <td>29.0</td>\n",
       "      <td>0.0</td>\n",
       "      <td>46368.0</td>\n",
       "      <td>1.0</td>\n",
       "      <td>1.0</td>\n",
       "      <td>0.0</td>\n",
       "      <td>1.0</td>\n",
       "      <td>2019-01-09</td>\n",
       "      <td>1</td>\n",
       "      <td>C9</td>\n",
       "      <td>Male</td>\n",
       "      <td>0</td>\n",
       "      <td>0</td>\n",
       "      <td>1</td>\n",
       "      <td>1</td>\n",
       "      <td>2019</td>\n",
       "    </tr>\n",
       "    <tr>\n",
       "      <th>4</th>\n",
       "      <td>6.0</td>\n",
       "      <td>31.0</td>\n",
       "      <td>1.0</td>\n",
       "      <td>78728.0</td>\n",
       "      <td>3.0</td>\n",
       "      <td>3.0</td>\n",
       "      <td>0.0</td>\n",
       "      <td>2.0</td>\n",
       "      <td>2020-07-31</td>\n",
       "      <td>0</td>\n",
       "      <td>C11</td>\n",
       "      <td>Female</td>\n",
       "      <td>1</td>\n",
       "      <td>0</td>\n",
       "      <td>0</td>\n",
       "      <td>7</td>\n",
       "      <td>2020</td>\n",
       "    </tr>\n",
       "  </tbody>\n",
       "</table>\n",
       "</div>"
      ],
      "text/plain": [
       "   Driver_ID   Age  Education_Level   Income  Joining_Designation  Grade  \\\n",
       "0        1.0  28.0              2.0  57387.0                  1.0    1.0   \n",
       "1        2.0  31.0              2.0  67016.0                  2.0    2.0   \n",
       "2        4.0  43.0              2.0  65603.0                  2.0    2.0   \n",
       "3        5.0  29.0              0.0  46368.0                  1.0    1.0   \n",
       "4        6.0  31.0              1.0  78728.0                  3.0    3.0   \n",
       "\n",
       "   Total_Business_Value  Quarterly_Rating Date_of_joining  Last_Working_Date  \\\n",
       "0                   0.0               2.0      2018-12-24                  1   \n",
       "1                   0.0               1.0      2020-11-06                  0   \n",
       "2                   0.0               1.0      2019-12-07                  1   \n",
       "3                   0.0               1.0      2019-01-09                  1   \n",
       "4                   0.0               2.0      2020-07-31                  0   \n",
       "\n",
       "  City  Gender  Quarterly_Rating_Increased  Income_Increased  Target  Month  \\\n",
       "0  C23    Male                           0                 0       1     12   \n",
       "1   C7    Male                           0                 0       0     11   \n",
       "2  C13    Male                           0                 0       1     12   \n",
       "3   C9    Male                           0                 0       1      1   \n",
       "4  C11  Female                           1                 0       0      7   \n",
       "\n",
       "   Year  \n",
       "0  2018  \n",
       "1  2020  \n",
       "2  2019  \n",
       "3  2019  \n",
       "4  2020  "
      ]
     },
     "execution_count": 99,
     "metadata": {},
     "output_type": "execute_result"
    }
   ],
   "source": [
    "final_data.head()"
   ]
  },
  {
   "cell_type": "code",
   "execution_count": 100,
   "id": "35eb67ee",
   "metadata": {},
   "outputs": [
    {
     "data": {
      "text/html": [
       "<div>\n",
       "<style scoped>\n",
       "    .dataframe tbody tr th:only-of-type {\n",
       "        vertical-align: middle;\n",
       "    }\n",
       "\n",
       "    .dataframe tbody tr th {\n",
       "        vertical-align: top;\n",
       "    }\n",
       "\n",
       "    .dataframe thead th {\n",
       "        text-align: right;\n",
       "    }\n",
       "</style>\n",
       "<table border=\"1\" class=\"dataframe\">\n",
       "  <thead>\n",
       "    <tr style=\"text-align: right;\">\n",
       "      <th></th>\n",
       "      <th>count</th>\n",
       "      <th>mean</th>\n",
       "      <th>min</th>\n",
       "      <th>25%</th>\n",
       "      <th>50%</th>\n",
       "      <th>75%</th>\n",
       "      <th>max</th>\n",
       "      <th>std</th>\n",
       "    </tr>\n",
       "  </thead>\n",
       "  <tbody>\n",
       "    <tr>\n",
       "      <th>Driver_ID</th>\n",
       "      <td>2381.0</td>\n",
       "      <td>1397.559009</td>\n",
       "      <td>1.0</td>\n",
       "      <td>695.0</td>\n",
       "      <td>1400.0</td>\n",
       "      <td>2100.0</td>\n",
       "      <td>2788.0</td>\n",
       "      <td>806.161628</td>\n",
       "    </tr>\n",
       "    <tr>\n",
       "      <th>Age</th>\n",
       "      <td>2381.0</td>\n",
       "      <td>33.770097</td>\n",
       "      <td>21.0</td>\n",
       "      <td>30.0</td>\n",
       "      <td>33.0</td>\n",
       "      <td>37.0</td>\n",
       "      <td>58.0</td>\n",
       "      <td>5.932286</td>\n",
       "    </tr>\n",
       "    <tr>\n",
       "      <th>Education_Level</th>\n",
       "      <td>2381.0</td>\n",
       "      <td>1.00756</td>\n",
       "      <td>0.0</td>\n",
       "      <td>0.0</td>\n",
       "      <td>1.0</td>\n",
       "      <td>2.0</td>\n",
       "      <td>2.0</td>\n",
       "      <td>0.81629</td>\n",
       "    </tr>\n",
       "    <tr>\n",
       "      <th>Income</th>\n",
       "      <td>2381.0</td>\n",
       "      <td>59334.157077</td>\n",
       "      <td>10747.0</td>\n",
       "      <td>39104.0</td>\n",
       "      <td>55315.0</td>\n",
       "      <td>75986.0</td>\n",
       "      <td>188418.0</td>\n",
       "      <td>28383.666384</td>\n",
       "    </tr>\n",
       "    <tr>\n",
       "      <th>Joining_Designation</th>\n",
       "      <td>2381.0</td>\n",
       "      <td>1.820244</td>\n",
       "      <td>1.0</td>\n",
       "      <td>1.0</td>\n",
       "      <td>2.0</td>\n",
       "      <td>2.0</td>\n",
       "      <td>5.0</td>\n",
       "      <td>0.841433</td>\n",
       "    </tr>\n",
       "    <tr>\n",
       "      <th>Grade</th>\n",
       "      <td>2381.0</td>\n",
       "      <td>2.096598</td>\n",
       "      <td>1.0</td>\n",
       "      <td>1.0</td>\n",
       "      <td>2.0</td>\n",
       "      <td>3.0</td>\n",
       "      <td>5.0</td>\n",
       "      <td>0.941522</td>\n",
       "    </tr>\n",
       "    <tr>\n",
       "      <th>Total_Business_Value</th>\n",
       "      <td>2381.0</td>\n",
       "      <td>266769.420412</td>\n",
       "      <td>-990000.0</td>\n",
       "      <td>0.0</td>\n",
       "      <td>0.0</td>\n",
       "      <td>196920.0</td>\n",
       "      <td>33747720.0</td>\n",
       "      <td>1134681.083303</td>\n",
       "    </tr>\n",
       "    <tr>\n",
       "      <th>Quarterly_Rating</th>\n",
       "      <td>2381.0</td>\n",
       "      <td>1.427971</td>\n",
       "      <td>1.0</td>\n",
       "      <td>1.0</td>\n",
       "      <td>1.0</td>\n",
       "      <td>2.0</td>\n",
       "      <td>4.0</td>\n",
       "      <td>0.809839</td>\n",
       "    </tr>\n",
       "    <tr>\n",
       "      <th>Date_of_joining</th>\n",
       "      <td>2381</td>\n",
       "      <td>2019-02-08 07:14:50.550189056</td>\n",
       "      <td>2013-04-01 00:00:00</td>\n",
       "      <td>2018-06-29 00:00:00</td>\n",
       "      <td>2019-07-21 00:00:00</td>\n",
       "      <td>2020-05-02 00:00:00</td>\n",
       "      <td>2020-12-28 00:00:00</td>\n",
       "      <td>NaN</td>\n",
       "    </tr>\n",
       "    <tr>\n",
       "      <th>Last_Working_Date</th>\n",
       "      <td>2381.0</td>\n",
       "      <td>0.678706</td>\n",
       "      <td>0.0</td>\n",
       "      <td>0.0</td>\n",
       "      <td>1.0</td>\n",
       "      <td>1.0</td>\n",
       "      <td>1.0</td>\n",
       "      <td>0.467071</td>\n",
       "    </tr>\n",
       "    <tr>\n",
       "      <th>Quarterly_Rating_Increased</th>\n",
       "      <td>2381.0</td>\n",
       "      <td>0.150357</td>\n",
       "      <td>0.0</td>\n",
       "      <td>0.0</td>\n",
       "      <td>0.0</td>\n",
       "      <td>0.0</td>\n",
       "      <td>1.0</td>\n",
       "      <td>0.357496</td>\n",
       "    </tr>\n",
       "    <tr>\n",
       "      <th>Income_Increased</th>\n",
       "      <td>2381.0</td>\n",
       "      <td>0.01806</td>\n",
       "      <td>0.0</td>\n",
       "      <td>0.0</td>\n",
       "      <td>0.0</td>\n",
       "      <td>0.0</td>\n",
       "      <td>1.0</td>\n",
       "      <td>0.133195</td>\n",
       "    </tr>\n",
       "    <tr>\n",
       "      <th>Target</th>\n",
       "      <td>2381.0</td>\n",
       "      <td>0.678706</td>\n",
       "      <td>0.0</td>\n",
       "      <td>0.0</td>\n",
       "      <td>1.0</td>\n",
       "      <td>1.0</td>\n",
       "      <td>1.0</td>\n",
       "      <td>0.467071</td>\n",
       "    </tr>\n",
       "    <tr>\n",
       "      <th>Month</th>\n",
       "      <td>2381.0</td>\n",
       "      <td>7.357413</td>\n",
       "      <td>1.0</td>\n",
       "      <td>5.0</td>\n",
       "      <td>7.0</td>\n",
       "      <td>10.0</td>\n",
       "      <td>12.0</td>\n",
       "      <td>3.143143</td>\n",
       "    </tr>\n",
       "    <tr>\n",
       "      <th>Year</th>\n",
       "      <td>2381.0</td>\n",
       "      <td>2018.536329</td>\n",
       "      <td>2013.0</td>\n",
       "      <td>2018.0</td>\n",
       "      <td>2019.0</td>\n",
       "      <td>2020.0</td>\n",
       "      <td>2020.0</td>\n",
       "      <td>1.609597</td>\n",
       "    </tr>\n",
       "  </tbody>\n",
       "</table>\n",
       "</div>"
      ],
      "text/plain": [
       "                             count                           mean  \\\n",
       "Driver_ID                   2381.0                    1397.559009   \n",
       "Age                         2381.0                      33.770097   \n",
       "Education_Level             2381.0                        1.00756   \n",
       "Income                      2381.0                   59334.157077   \n",
       "Joining_Designation         2381.0                       1.820244   \n",
       "Grade                       2381.0                       2.096598   \n",
       "Total_Business_Value        2381.0                  266769.420412   \n",
       "Quarterly_Rating            2381.0                       1.427971   \n",
       "Date_of_joining               2381  2019-02-08 07:14:50.550189056   \n",
       "Last_Working_Date           2381.0                       0.678706   \n",
       "Quarterly_Rating_Increased  2381.0                       0.150357   \n",
       "Income_Increased            2381.0                        0.01806   \n",
       "Target                      2381.0                       0.678706   \n",
       "Month                       2381.0                       7.357413   \n",
       "Year                        2381.0                    2018.536329   \n",
       "\n",
       "                                            min                  25%  \\\n",
       "Driver_ID                                   1.0                695.0   \n",
       "Age                                        21.0                 30.0   \n",
       "Education_Level                             0.0                  0.0   \n",
       "Income                                  10747.0              39104.0   \n",
       "Joining_Designation                         1.0                  1.0   \n",
       "Grade                                       1.0                  1.0   \n",
       "Total_Business_Value                  -990000.0                  0.0   \n",
       "Quarterly_Rating                            1.0                  1.0   \n",
       "Date_of_joining             2013-04-01 00:00:00  2018-06-29 00:00:00   \n",
       "Last_Working_Date                           0.0                  0.0   \n",
       "Quarterly_Rating_Increased                  0.0                  0.0   \n",
       "Income_Increased                            0.0                  0.0   \n",
       "Target                                      0.0                  0.0   \n",
       "Month                                       1.0                  5.0   \n",
       "Year                                     2013.0               2018.0   \n",
       "\n",
       "                                            50%                  75%  \\\n",
       "Driver_ID                                1400.0               2100.0   \n",
       "Age                                        33.0                 37.0   \n",
       "Education_Level                             1.0                  2.0   \n",
       "Income                                  55315.0              75986.0   \n",
       "Joining_Designation                         2.0                  2.0   \n",
       "Grade                                       2.0                  3.0   \n",
       "Total_Business_Value                        0.0             196920.0   \n",
       "Quarterly_Rating                            1.0                  2.0   \n",
       "Date_of_joining             2019-07-21 00:00:00  2020-05-02 00:00:00   \n",
       "Last_Working_Date                           1.0                  1.0   \n",
       "Quarterly_Rating_Increased                  0.0                  0.0   \n",
       "Income_Increased                            0.0                  0.0   \n",
       "Target                                      1.0                  1.0   \n",
       "Month                                       7.0                 10.0   \n",
       "Year                                     2019.0               2020.0   \n",
       "\n",
       "                                            max             std  \n",
       "Driver_ID                                2788.0      806.161628  \n",
       "Age                                        58.0        5.932286  \n",
       "Education_Level                             2.0         0.81629  \n",
       "Income                                 188418.0    28383.666384  \n",
       "Joining_Designation                         5.0        0.841433  \n",
       "Grade                                       5.0        0.941522  \n",
       "Total_Business_Value                 33747720.0  1134681.083303  \n",
       "Quarterly_Rating                            4.0        0.809839  \n",
       "Date_of_joining             2020-12-28 00:00:00             NaN  \n",
       "Last_Working_Date                           1.0        0.467071  \n",
       "Quarterly_Rating_Increased                  1.0        0.357496  \n",
       "Income_Increased                            1.0        0.133195  \n",
       "Target                                      1.0        0.467071  \n",
       "Month                                      12.0        3.143143  \n",
       "Year                                     2020.0        1.609597  "
      ]
     },
     "execution_count": 100,
     "metadata": {},
     "output_type": "execute_result"
    }
   ],
   "source": [
    "# Statistical summary\n",
    "final_data.describe().T"
   ]
  },
  {
   "cell_type": "code",
   "execution_count": 101,
   "id": "589b2ad4",
   "metadata": {},
   "outputs": [],
   "source": [
    "# Observations from above statistical summary:\n",
    "# 1. Min age of driver joining OLA is 21years while the max age is 58.\n",
    "# 2. Almost 75% of the drivers have montly income less than 80,000."
   ]
  },
  {
   "cell_type": "code",
   "execution_count": 102,
   "id": "c66918ad",
   "metadata": {},
   "outputs": [],
   "source": [
    "## UNIVARIATE ANALYSIS"
   ]
  },
  {
   "cell_type": "code",
   "execution_count": 103,
   "id": "95ae787f",
   "metadata": {},
   "outputs": [
    {
     "data": {
      "image/png": "[encoded data removed]",
      "text/plain": [
       "<Figure size 640x480 with 1 Axes>"
      ]
     },
     "metadata": {},
     "output_type": "display_data"
    }
   ],
   "source": [
    "# 1. No. of drivers joining OLA every month\n",
    "sns.countplot(data = final_data, x = final_data['Month'])\n",
    "plt.show()"
   ]
  },
  {
   "cell_type": "code",
   "execution_count": 104,
   "id": "e1d1a26e",
   "metadata": {},
   "outputs": [],
   "source": [
    "# Insights - \n",
    "# 1. Above plot shows that max drivers join OLA in the month of July with max retention of drivers are in between May to July.\n",
    "# 2. Drop in the intake of drivers is seen from October with a max drop is seen in the month of March. "
   ]
  },
  {
   "cell_type": "code",
   "execution_count": 105,
   "id": "950bdd30",
   "metadata": {},
   "outputs": [
    {
     "data": {
      "image/png": "[encoded data removed]",
      "text/plain": [
       "<Figure size 1500x1500 with 1 Axes>"
      ]
     },
     "metadata": {},
     "output_type": "display_data"
    }
   ],
   "source": [
    "plt.figure(figsize = (15,15))\n",
    "sns.countplot(data = final_data, x = final_data['Age'])\n",
    "plt.xticks(rotation = 90)\n",
    "plt.show()"
   ]
  },
  {
   "cell_type": "code",
   "execution_count": 106,
   "id": "ea2fc46d",
   "metadata": {},
   "outputs": [
    {
     "data": {
      "text/plain": [
       "<Axes: xlabel='Age', ylabel='count'>"
      ]
     },
     "execution_count": 106,
     "metadata": {},
     "output_type": "execute_result"
    },
    {
     "data": {
      "image/png": "[encoded data removed]",
      "text/plain": [
       "<Figure size 640x480 with 1 Axes>"
      ]
     },
     "metadata": {},
     "output_type": "display_data"
    }
   ],
   "source": [
    "# 2. Age wise distribution of the drivers working for OLA.\n",
    "age_grp = pd.cut(final_data.Age, bins = [15,25,35,45,55,65], labels = ['15-25', '25-35', '35-45', '45-55', '55-65'])\n",
    "sns.countplot(data = final_data, x =  age_grp)"
   ]
  },
  {
   "cell_type": "code",
   "execution_count": 107,
   "id": "00ebfa53",
   "metadata": {},
   "outputs": [],
   "source": [
    "# Insights - \n",
    "# 1. Above countplot shows that max drivers in OLA are in the age group of 25 to 35.\n",
    "# 2. ALmost negligible drivers join OLA within the age group of 55 to 65."
   ]
  },
  {
   "cell_type": "code",
   "execution_count": 108,
   "id": "5e7b8894",
   "metadata": {},
   "outputs": [
    {
     "data": {
      "image/png": "[encoded data removed]",
      "text/plain": [
       "<Figure size 1000x500 with 1 Axes>"
      ]
     },
     "metadata": {},
     "output_type": "display_data"
    }
   ],
   "source": [
    "# 3. Citywise distribution of drivers\n",
    "plt.figure(figsize = (10,5))\n",
    "sns.countplot(data = final_data, x = 'City')\n",
    "plt.xticks(rotation = 90)\n",
    "plt.show()"
   ]
  },
  {
   "cell_type": "code",
   "execution_count": 109,
   "id": "04eda3f5",
   "metadata": {},
   "outputs": [
    {
     "data": {
      "image/png": "[encoded data removed]",
      "text/plain": [
       "<Figure size 640x480 with 1 Axes>"
      ]
     },
     "metadata": {},
     "output_type": "display_data"
    }
   ],
   "source": [
    "sns.countplot(data = final_data, x ='Target')\n",
    "plt.show()"
   ]
  },
  {
   "cell_type": "code",
   "execution_count": 110,
   "id": "69a5f506",
   "metadata": {},
   "outputs": [],
   "source": [
    "# Insights - \n",
    "# 1. Above countplot shows that the  churn rate of drivers in OLA is high are more number of drivers are leaving OLA than the ones retaining."
   ]
  },
  {
   "cell_type": "code",
   "execution_count": 111,
   "id": "b8a280c1",
   "metadata": {},
   "outputs": [
    {
     "data": {
      "text/plain": [
       "Target\n",
       "1    67.87\n",
       "0    32.13\n",
       "Name: proportion, dtype: float64"
      ]
     },
     "execution_count": 111,
     "metadata": {},
     "output_type": "execute_result"
    }
   ],
   "source": [
    "round(final_data['Target'].value_counts(normalize = True)*100,2)"
   ]
  },
  {
   "cell_type": "code",
   "execution_count": 112,
   "id": "1b67a2a3",
   "metadata": {},
   "outputs": [
    {
     "data": {
      "text/plain": [
       "8"
      ]
     },
     "execution_count": 112,
     "metadata": {},
     "output_type": "execute_result"
    }
   ],
   "source": [
    "final_data['Year'].nunique()"
   ]
  },
  {
   "cell_type": "code",
   "execution_count": 113,
   "id": "decd9693",
   "metadata": {},
   "outputs": [],
   "source": [
    "# Insights - \n",
    "# Shows that 67.87% of drivers have quitted from OLA within a period of 8 years which is very high church rate."
   ]
  },
  {
   "cell_type": "code",
   "execution_count": 114,
   "id": "9e5d449a",
   "metadata": {},
   "outputs": [
    {
     "data": {
      "image/png": "[encoded data removed]",
      "text/plain": [
       "<Figure size 640x480 with 1 Axes>"
      ]
     },
     "metadata": {},
     "output_type": "display_data"
    }
   ],
   "source": [
    "sns.countplot(data = final_data, x = 'Quarterly_Rating_Increased')\n",
    "plt.show()"
   ]
  },
  {
   "cell_type": "code",
   "execution_count": 115,
   "id": "93930f48",
   "metadata": {},
   "outputs": [
    {
     "data": {
      "text/plain": [
       "Quarterly_Rating_Increased\n",
       "0    84.96\n",
       "1    15.04\n",
       "Name: proportion, dtype: float64"
      ]
     },
     "execution_count": 115,
     "metadata": {},
     "output_type": "execute_result"
    }
   ],
   "source": [
    "round(final_data['Quarterly_Rating_Increased'].value_counts(normalize = 'True')*100,2)"
   ]
  },
  {
   "cell_type": "code",
   "execution_count": 116,
   "id": "72d93c2d",
   "metadata": {},
   "outputs": [],
   "source": [
    "## Insights - \n",
    "## Above data shows that 84.67% of drivers did not receive an increase in their quarterly income."
   ]
  },
  {
   "cell_type": "code",
   "execution_count": 117,
   "id": "cb875895",
   "metadata": {},
   "outputs": [
    {
     "data": {
      "image/png": "[encoded data removed]",
      "text/plain": [
       "<Figure size 640x480 with 1 Axes>"
      ]
     },
     "metadata": {},
     "output_type": "display_data"
    }
   ],
   "source": [
    "sns.countplot(data = final_data, x = 'Income_Increased')\n",
    "plt.show()"
   ]
  },
  {
   "cell_type": "code",
   "execution_count": 118,
   "id": "0fbebff9",
   "metadata": {},
   "outputs": [
    {
     "data": {
      "text/plain": [
       "Income_Increased\n",
       "0    98.19\n",
       "1     1.81\n",
       "Name: proportion, dtype: float64"
      ]
     },
     "execution_count": 118,
     "metadata": {},
     "output_type": "execute_result"
    }
   ],
   "source": [
    "round(final_data['Income_Increased'].value_counts(normalize = 'True')*100,2)"
   ]
  },
  {
   "cell_type": "code",
   "execution_count": 119,
   "id": "b8cab549",
   "metadata": {},
   "outputs": [],
   "source": [
    "## Insights -\n",
    "## Above data shows that nearly 98% of the drivers did not get an increase in their income from the date of joining."
   ]
  },
  {
   "cell_type": "code",
   "execution_count": 120,
   "id": "7ffacfee",
   "metadata": {},
   "outputs": [
    {
     "data": {
      "text/plain": [
       "<Axes: xlabel='Education_Level', ylabel='count'>"
      ]
     },
     "execution_count": 120,
     "metadata": {},
     "output_type": "execute_result"
    },
    {
     "data": {
      "image/png": "[encoded data removed]",
      "text/plain": [
       "<Figure size 1200x1500 with 8 Axes>"
      ]
     },
     "metadata": {},
     "output_type": "display_data"
    }
   ],
   "source": [
    "plt.figure(figsize = (12,15))\n",
    "plt.subplot(4,2,1)\n",
    "sns.countplot(data = final_data, x = final_data['Month'])\n",
    "plt.subplot(4,2,2)\n",
    "sns.countplot(data = final_data, x = final_data['Year'])\n",
    "plt.subplot(4,2,3)\n",
    "sns.countplot(data = final_data, x =  age_grp)\n",
    "plt.subplot(4,2,4)\n",
    "sns.countplot(data = final_data, x ='Target')\n",
    "plt.subplot(4,2,5)\n",
    "sns.countplot(data = final_data, x = 'Quarterly_Rating_Increased')\n",
    "plt.subplot(4,2,6)\n",
    "sns.countplot(data = final_data, x = 'Income_Increased')\n",
    "plt.subplot(4,2,7)\n",
    "sns.countplot(data = final_data, x = 'Grade')\n",
    "plt.subplot(4,2,8)\n",
    "sns.countplot(data = final_data, x = 'Education_Level')"
   ]
  },
  {
   "cell_type": "code",
   "execution_count": 121,
   "id": "80f15796",
   "metadata": {},
   "outputs": [
    {
     "data": {
      "image/png": "[encoded data removed]",
      "text/plain": [
       "<Figure size 1000x800 with 4 Axes>"
      ]
     },
     "metadata": {},
     "output_type": "display_data"
    }
   ],
   "source": [
    "plt.figure(figsize = (10,8))\n",
    "plt.subplot(2,2,1)\n",
    "sns.boxplot(data = final_data, x = 'Age')\n",
    "plt.subplot(2,2,2)\n",
    "sns.boxplot(data = final_data, x = 'Income')\n",
    "plt.subplot(2,2,3)\n",
    "sns.boxplot(data = final_data, x =  'Total_Business_Value')\n",
    "plt.subplot(2,2,4)\n",
    "sns.boxplot(data = final_data, x =  'Education_Level')\n",
    "plt.show()"
   ]
  },
  {
   "cell_type": "code",
   "execution_count": 122,
   "id": "4760aaa6",
   "metadata": {},
   "outputs": [],
   "source": [
    "# Outliers exist in Age, Income and Total_Business_Value made by the drivers."
   ]
  },
  {
   "cell_type": "code",
   "execution_count": 123,
   "id": "9d8fc15c",
   "metadata": {},
   "outputs": [
    {
     "data": {
      "image/png": "[encoded data removed]",
      "text/plain": [
       "<Figure size 640x480 with 1 Axes>"
      ]
     },
     "metadata": {},
     "output_type": "display_data"
    }
   ],
   "source": [
    "## BIVARIATE ANALYSIS\n",
    "\n",
    "# 1. Age-wise distribution of the drivers wrt to their churn rate and gender.\n",
    "\n",
    "sns.barplot(data = final_data, x = age_grp, y = 'Target', hue = 'Gender')\n",
    "plt.show()"
   ]
  },
  {
   "cell_type": "code",
   "execution_count": 129,
   "id": "2b1c3f18",
   "metadata": {},
   "outputs": [
    {
     "data": {
      "image/png": "[encoded data removed]",
      "text/plain": [
       "<Figure size 640x480 with 1 Axes>"
      ]
     },
     "metadata": {},
     "output_type": "display_data"
    }
   ],
   "source": [
    "# 2. Income distribution of the drivers wrt to their churn rate and gender.\n",
    "\n",
    "income_grp = pd.cut(final_data.Income, bins = [20000,40000,60000,80000,100000,120000,140000,160000,180000,200000], labels = ['0-20000', '20000-40000', '40000-60000', '60000-80000', '80000-100000','120000-140000','140000-160000','160000-180000','180000-200000'])\n",
    "sns.barplot(data = final_data, x = income_grp, y = 'Target', hue = 'Gender')\n",
    "plt.xticks(rotation = 45)\n",
    "plt.show()"
   ]
  },
  {
   "cell_type": "code",
   "execution_count": 130,
   "id": "3b5a7693",
   "metadata": {},
   "outputs": [
    {
     "data": {
      "text/plain": [
       "<Axes: xlabel='Education_Level', ylabel='Target'>"
      ]
     },
     "execution_count": 130,
     "metadata": {},
     "output_type": "execute_result"
    },
    {
     "data": {
      "image/png": "[encoded data removed]",
      "text/plain": [
       "<Figure size 640x480 with 1 Axes>"
      ]
     },
     "metadata": {},
     "output_type": "display_data"
    }
   ],
   "source": [
    "# 3. Education of thr drivers wrt to their churn rate and gender.\n",
    "\n",
    "sns.barplot(data = final_data, x = 'Education_Level', y = 'Target', hue = 'Gender')"
   ]
  },
  {
   "cell_type": "code",
   "execution_count": 135,
   "id": "7385e4ba",
   "metadata": {},
   "outputs": [
    {
     "data": {
      "image/png": "[encoded data removed]",
      "text/plain": [
       "<Figure size 640x480 with 1 Axes>"
      ]
     },
     "metadata": {},
     "output_type": "display_data"
    }
   ],
   "source": [
    "# 4. Income distribution of the drivers wrt to the increase in income and gender.\n",
    "\n",
    "sns.barplot(data = final_data, x = 'Income_Increased', y = income_grp, hue = 'Gender')\n",
    "plt.show()"
   ]
  },
  {
   "cell_type": "code",
   "execution_count": 138,
   "id": "b5655700",
   "metadata": {},
   "outputs": [
    {
     "data": {
      "image/png": "[encoded data removed]",
      "text/plain": [
       "<Figure size 640x480 with 1 Axes>"
      ]
     },
     "metadata": {},
     "output_type": "display_data"
    }
   ],
   "source": [
    "# 5. Monthly income distrubtion wrt driver age and gender.\n",
    "\n",
    "sns.barplot(data = final_data, x = age_grp, y = 'Income', hue = 'Gender')\n",
    "plt.show()"
   ]
  },
  {
   "cell_type": "code",
   "execution_count": null,
   "id": "450a7a3b",
   "metadata": {},
   "outputs": [],
   "source": [
    "## Insights - \n",
    "# 1. The churn rate is very high for drivers in the age-group of 15-25 yrs. Female drivers are seen to show a high churn compared to male drivers.\n",
    "# 2. Lower income drivers below 40000 income show a high churn rate than drivers having high income. Another observation is that, with increase in the monthly income, retention of female drivers are high compared to male drivers.\n",
    "# 3. Education distribution is equal for all drivers both male and female. Also, the churn rate of the drivers does not depend on their Education Level.\n",
    "# 4. \n",
    "# 5. Drivers in the age group between 35-55 show high income than the smaller age group drivers. Also, a drop in the income of male drivers while a rise in the income of female drivers is observed with increasing age of the drivers."
   ]
  },
  {
   "cell_type": "code",
   "execution_count": 139,
   "id": "c8321402",
   "metadata": {},
   "outputs": [
    {
     "ename": "ValueError",
     "evalue": "could not convert string to float: 'C23'",
     "output_type": "error",
     "traceback": [
      "\u001b[1;31m---------------------------------------------------------------------------\u001b[0m",
      "\u001b[1;31mValueError\u001b[0m                                Traceback (most recent call last)",
      "Cell \u001b[1;32mIn[139], line 2\u001b[0m\n\u001b[0;32m      1\u001b[0m \u001b[38;5;66;03m## CORRELATION ANALYSIS\u001b[39;00m\n\u001b[1;32m----> 2\u001b[0m sns\u001b[38;5;241m.\u001b[39mheatmap(\u001b[43mfinal_data\u001b[49m\u001b[38;5;241;43m.\u001b[39;49m\u001b[43mcorr\u001b[49m\u001b[43m(\u001b[49m\u001b[43mmethod\u001b[49m\u001b[38;5;241;43m=\u001b[39;49m\u001b[38;5;124;43m\"\u001b[39;49m\u001b[38;5;124;43mpearson\u001b[39;49m\u001b[38;5;124;43m\"\u001b[39;49m\u001b[43m)\u001b[49m, annot\u001b[38;5;241m=\u001b[39m\u001b[38;5;28;01mTrue\u001b[39;00m, cmap\u001b[38;5;241m=\u001b[39m\u001b[38;5;124m\"\u001b[39m\u001b[38;5;124mcrest\u001b[39m\u001b[38;5;124m\"\u001b[39m)\n\u001b[0;32m      3\u001b[0m plt\u001b[38;5;241m.\u001b[39mshow()\n",
      "File \u001b[1;32m~\\AppData\\Local\\Programs\\Python\\Python311\\Lib\\site-packages\\pandas\\core\\frame.py:10054\u001b[0m, in \u001b[0;36mDataFrame.corr\u001b[1;34m(self, method, min_periods, numeric_only)\u001b[0m\n\u001b[0;32m  10052\u001b[0m cols \u001b[38;5;241m=\u001b[39m data\u001b[38;5;241m.\u001b[39mcolumns\n\u001b[0;32m  10053\u001b[0m idx \u001b[38;5;241m=\u001b[39m cols\u001b[38;5;241m.\u001b[39mcopy()\n\u001b[1;32m> 10054\u001b[0m mat \u001b[38;5;241m=\u001b[39m \u001b[43mdata\u001b[49m\u001b[38;5;241;43m.\u001b[39;49m\u001b[43mto_numpy\u001b[49m\u001b[43m(\u001b[49m\u001b[43mdtype\u001b[49m\u001b[38;5;241;43m=\u001b[39;49m\u001b[38;5;28;43mfloat\u001b[39;49m\u001b[43m,\u001b[49m\u001b[43m \u001b[49m\u001b[43mna_value\u001b[49m\u001b[38;5;241;43m=\u001b[39;49m\u001b[43mnp\u001b[49m\u001b[38;5;241;43m.\u001b[39;49m\u001b[43mnan\u001b[49m\u001b[43m,\u001b[49m\u001b[43m \u001b[49m\u001b[43mcopy\u001b[49m\u001b[38;5;241;43m=\u001b[39;49m\u001b[38;5;28;43;01mFalse\u001b[39;49;00m\u001b[43m)\u001b[49m\n\u001b[0;32m  10056\u001b[0m \u001b[38;5;28;01mif\u001b[39;00m method \u001b[38;5;241m==\u001b[39m \u001b[38;5;124m\"\u001b[39m\u001b[38;5;124mpearson\u001b[39m\u001b[38;5;124m\"\u001b[39m:\n\u001b[0;32m  10057\u001b[0m     correl \u001b[38;5;241m=\u001b[39m libalgos\u001b[38;5;241m.\u001b[39mnancorr(mat, minp\u001b[38;5;241m=\u001b[39mmin_periods)\n",
      "File \u001b[1;32m~\\AppData\\Local\\Programs\\Python\\Python311\\Lib\\site-packages\\pandas\\core\\frame.py:1838\u001b[0m, in \u001b[0;36mDataFrame.to_numpy\u001b[1;34m(self, dtype, copy, na_value)\u001b[0m\n\u001b[0;32m   1836\u001b[0m \u001b[38;5;28;01mif\u001b[39;00m dtype \u001b[38;5;129;01mis\u001b[39;00m \u001b[38;5;129;01mnot\u001b[39;00m \u001b[38;5;28;01mNone\u001b[39;00m:\n\u001b[0;32m   1837\u001b[0m     dtype \u001b[38;5;241m=\u001b[39m np\u001b[38;5;241m.\u001b[39mdtype(dtype)\n\u001b[1;32m-> 1838\u001b[0m result \u001b[38;5;241m=\u001b[39m \u001b[38;5;28;43mself\u001b[39;49m\u001b[38;5;241;43m.\u001b[39;49m\u001b[43m_mgr\u001b[49m\u001b[38;5;241;43m.\u001b[39;49m\u001b[43mas_array\u001b[49m\u001b[43m(\u001b[49m\u001b[43mdtype\u001b[49m\u001b[38;5;241;43m=\u001b[39;49m\u001b[43mdtype\u001b[49m\u001b[43m,\u001b[49m\u001b[43m \u001b[49m\u001b[43mcopy\u001b[49m\u001b[38;5;241;43m=\u001b[39;49m\u001b[43mcopy\u001b[49m\u001b[43m,\u001b[49m\u001b[43m \u001b[49m\u001b[43mna_value\u001b[49m\u001b[38;5;241;43m=\u001b[39;49m\u001b[43mna_value\u001b[49m\u001b[43m)\u001b[49m\n\u001b[0;32m   1839\u001b[0m \u001b[38;5;28;01mif\u001b[39;00m result\u001b[38;5;241m.\u001b[39mdtype \u001b[38;5;129;01mis\u001b[39;00m \u001b[38;5;129;01mnot\u001b[39;00m dtype:\n\u001b[0;32m   1840\u001b[0m     result \u001b[38;5;241m=\u001b[39m np\u001b[38;5;241m.\u001b[39marray(result, dtype\u001b[38;5;241m=\u001b[39mdtype, copy\u001b[38;5;241m=\u001b[39m\u001b[38;5;28;01mFalse\u001b[39;00m)\n",
      "File \u001b[1;32m~\\AppData\\Local\\Programs\\Python\\Python311\\Lib\\site-packages\\pandas\\core\\internals\\managers.py:1732\u001b[0m, in \u001b[0;36mBlockManager.as_array\u001b[1;34m(self, dtype, copy, na_value)\u001b[0m\n\u001b[0;32m   1730\u001b[0m         arr\u001b[38;5;241m.\u001b[39mflags\u001b[38;5;241m.\u001b[39mwriteable \u001b[38;5;241m=\u001b[39m \u001b[38;5;28;01mFalse\u001b[39;00m\n\u001b[0;32m   1731\u001b[0m \u001b[38;5;28;01melse\u001b[39;00m:\n\u001b[1;32m-> 1732\u001b[0m     arr \u001b[38;5;241m=\u001b[39m \u001b[38;5;28;43mself\u001b[39;49m\u001b[38;5;241;43m.\u001b[39;49m\u001b[43m_interleave\u001b[49m\u001b[43m(\u001b[49m\u001b[43mdtype\u001b[49m\u001b[38;5;241;43m=\u001b[39;49m\u001b[43mdtype\u001b[49m\u001b[43m,\u001b[49m\u001b[43m \u001b[49m\u001b[43mna_value\u001b[49m\u001b[38;5;241;43m=\u001b[39;49m\u001b[43mna_value\u001b[49m\u001b[43m)\u001b[49m\n\u001b[0;32m   1733\u001b[0m     \u001b[38;5;66;03m# The underlying data was copied within _interleave, so no need\u001b[39;00m\n\u001b[0;32m   1734\u001b[0m     \u001b[38;5;66;03m# to further copy if copy=True or setting na_value\u001b[39;00m\n\u001b[0;32m   1736\u001b[0m \u001b[38;5;28;01mif\u001b[39;00m na_value \u001b[38;5;129;01mis\u001b[39;00m \u001b[38;5;129;01mnot\u001b[39;00m lib\u001b[38;5;241m.\u001b[39mno_default:\n",
      "File \u001b[1;32m~\\AppData\\Local\\Programs\\Python\\Python311\\Lib\\site-packages\\pandas\\core\\internals\\managers.py:1794\u001b[0m, in \u001b[0;36mBlockManager._interleave\u001b[1;34m(self, dtype, na_value)\u001b[0m\n\u001b[0;32m   1792\u001b[0m     \u001b[38;5;28;01melse\u001b[39;00m:\n\u001b[0;32m   1793\u001b[0m         arr \u001b[38;5;241m=\u001b[39m blk\u001b[38;5;241m.\u001b[39mget_values(dtype)\n\u001b[1;32m-> 1794\u001b[0m     \u001b[43mresult\u001b[49m\u001b[43m[\u001b[49m\u001b[43mrl\u001b[49m\u001b[38;5;241;43m.\u001b[39;49m\u001b[43mindexer\u001b[49m\u001b[43m]\u001b[49m \u001b[38;5;241m=\u001b[39m arr\n\u001b[0;32m   1795\u001b[0m     itemmask[rl\u001b[38;5;241m.\u001b[39mindexer] \u001b[38;5;241m=\u001b[39m \u001b[38;5;241m1\u001b[39m\n\u001b[0;32m   1797\u001b[0m \u001b[38;5;28;01mif\u001b[39;00m \u001b[38;5;129;01mnot\u001b[39;00m itemmask\u001b[38;5;241m.\u001b[39mall():\n",
      "\u001b[1;31mValueError\u001b[0m: could not convert string to float: 'C23'"
     ]
    }
   ],
   "source": [
    "## CORRELATION ANALYSIS\n",
    "sns.heatmap(final_data.corr(method=\"pearson\"), annot=True, cmap=\"crest\")\n",
    "plt.show()"
   ]
  },
  {
   "cell_type": "code",
   "execution_count": null,
   "id": "543d53b9",
   "metadata": {},
   "outputs": [],
   "source": []
  }
 ],
 "metadata": {
  "kernelspec": {
   "display_name": "Python 3 (ipykernel)",
   "language": "python",
   "name": "python3"
  },
  "language_info": {
   "codemirror_mode": {
    "name": "ipython",
    "version": 3
   },
   "file_extension": ".py",
   "mimetype": "text/x-python",
   "name": "python",
   "nbconvert_exporter": "python",
   "pygments_lexer": "ipython3",
   "version": "3.11.3"
  }
 },
 "nbformat": 4,
 "nbformat_minor": 5
}
